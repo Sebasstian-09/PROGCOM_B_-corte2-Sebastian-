{
  "nbformat": 4,
  "nbformat_minor": 0,
  "metadata": {
    "colab": {
      "provenance": []
    },
    "kernelspec": {
      "name": "python3",
      "display_name": "Python 3"
    },
    "language_info": {
      "name": "python"
    }
  },
  "cells": [
    {
      "cell_type": "code",
      "execution_count": 12,
      "metadata": {
        "id": "0UazCkLFghhH"
      },
      "outputs": [],
      "source": [
        "class Humano:\n",
        "  def __init__(self, nombre, ojos, pelo, cejas, orejas, RH, pestanas, manos, brazos, piernas, dedos, genero, nariz, dientes, peso, estatura, lengua, pies, unas, colorpiel, colorojos, colorpelo):\n",
        "    self.nombre=nombre\n",
        "    self.ojos=ojos\n",
        "    self.pelo=pelo\n",
        "    self.cejas=cejas\n",
        "    self.orejas=orejas\n",
        "    self.RH=RH\n",
        "    self.pestanas=pestanas\n",
        "    self.manos=manos\n",
        "    self.brazos=brazos\n",
        "    self.piernas=piernas\n",
        "    self.dedos=dedos\n",
        "    self.genero=genero\n",
        "    self.nariz=nariz\n",
        "    self.dientes=dientes\n",
        "    self.peso=peso\n",
        "    self.estatura=estatura\n",
        "    self.lengua=lengua\n",
        "    self.pies=pies\n",
        "    self.unas=unas\n",
        "    self.colorpiel=colorpiel\n",
        "    self.colorojos=colorojos\n",
        "    self.colorpelo=colorpelo\n",
        "  \n",
        "  def movilizarse(self, vel):\n",
        "    #velocidad esta en km/h\n",
        "    if vel<0:\n",
        "      vel*=-1\n",
        "      print(f\"{self.nombre} esta retrocediendo\")\n",
        "      return vel\n",
        "    else: \n",
        "      vel=vel\n",
        "      print(f\"{self.nombre} esta avanzando\")\n",
        "      return vel\n",
        "    if vel==0:\n",
        "      return f\"{self.nombre} está reposo\"\n",
        "    elif vel>0 and vel<=1:\n",
        "      return f\"{self.nombre} está gateando\"\n",
        "    elif vel>1 and vel<=5:\n",
        "      return f\"{self.nombre} está caminando\"\n",
        "    elif vel>5 and vel<=8:\n",
        "      return f\"{self.nombre} está trotando\"\n",
        "    elif vel>8 and vel<=44.19:\n",
        "      return f\"{self.nombre} está corriendo\"\n",
        "    elif vel>44.19 and vel<=10000:\n",
        "      return f\"{self.nombre} está volando\"\n",
        "    else:\n",
        "      return f\"{self.nombre} posiblemente no es humano\"\n",
        "  \n",
        "  def trabajar(self, trabajo):\n",
        "    trabajos=[\"desempleado\", \"estudiante\", \"cientifico\", \"policía\", \"medico\"]\n",
        "    if trabajos==0:\n",
        "      print(self.nombre, \"está desempleado\")\n",
        "    elif trabajos==1:\n",
        "      print(self.nombre, \"es estudiante\")\n",
        "    elif trabajos==2:\n",
        "      print(self.nombre, \"es cientifico\")\n",
        "    elif trabajos==3:\n",
        "      print(self.nombre, \"es policía\")\n",
        "    elif trabajos==4:\n",
        "      print(self.nombre, \"es medico\")"
      ]
    },
    {
      "cell_type": "code",
      "source": [
        "class Sayayin:\n",
        "  def __init__(self, nombre, ojos, pelo, cejas, orejas, RH, pestanas, manos, brazos, piernas, dedos, genero, nariz, dientes, peso, estatura, lengua, pies, unas, colorpiel, colorpelo):\n",
        "    self.nombre=nombre\n",
        "    self.ojos=ojos\n",
        "    self.pelo=pelo\n",
        "    self.cejas=cejas\n",
        "    self.orejas=orejas\n",
        "    self.RH=RH\n",
        "    self.pestanas=pestanas\n",
        "    self.manos=manos\n",
        "    self.brazos=brazos\n",
        "    self.piernas=piernas\n",
        "    self.dedos=dedos\n",
        "    self.genero=genero\n",
        "    self.nariz=nariz\n",
        "    self.dientes=dientes\n",
        "    self.peso=peso\n",
        "    self.estatura=estatura\n",
        "    self.lengua=lengua\n",
        "    self.pies=pies\n",
        "    self.unas=unas\n",
        "    self.colorpiel=colorpiel\n",
        "    self.colorojos=\"negro\"\n",
        "    self.colorpelo=colorpelo\n",
        "    self.cola_de_mono=True\n",
        "  \n",
        "  def movilizarse(self, vel):\n",
        "    #velocidad esta en km/h\n",
        "    if vel<0:\n",
        "      vel*=-1\n",
        "      print(f\"{self.nombre} esta retrocediendo\")\n",
        "      return vel\n",
        "    else: \n",
        "      vel=vel\n",
        "      print(f\"{self.nombre} esta avanzando\")\n",
        "      return vel\n",
        "    if vel==0:\n",
        "      return f\"{self.nombre} está reposo\"\n",
        "    elif vel>0 and vel<=5:\n",
        "      return f\"{self.nombre} está caminando\"\n",
        "    elif vel>5 and vel<=8:\n",
        "      return f\"{self.nombre} está trotando\"\n",
        "    elif vel>8 and vel<=80:\n",
        "      return f\"{self.nombre} está corriendo\"\n",
        "    elif vel>80 and  vel<=100000:\n",
        "      return f\"{self.nombre} está volando\"\n",
        "    else:\n",
        "      return f\"{self.nombre} posiblemente no es sayayin\"\n",
        "  \n",
        "  def trabajar(self, trabajo):\n",
        "    trabajos=[\"guerrero\", \"mercenario\", \"granjero\", \"rey\", \"principe\"]\n",
        "    if trabajos==0:\n",
        "      print(self.nombre, \"es guerrero\")\n",
        "    elif trabajos==1:\n",
        "      print(self.nombre, \"es mercenario\")\n",
        "    elif trabajos==2:\n",
        "      print(self.nombre, \"es granjero\")\n",
        "    elif trabajos==3:\n",
        "      print(self.nombre, \"es rey\")\n",
        "    elif trabajos==4:\n",
        "      print(self.nombre, \"es principe\")\n",
        "    \n",
        "  \n",
        "  def transformacion(self, luna_llena):\n",
        "    if luna_llena==True:\n",
        "      if self.cola_de_mono==True:\n",
        "        return f\"{self.nombre} se transformará en ozaru\"\n",
        "      else:\n",
        "        return f\"{self.nombre} no se transformará en ozaru\"\n",
        "    else:\n",
        "      return f\"no es posible que {self.nombre} realize la transformación\""
      ],
      "metadata": {
        "id": "BM-RJMaSsYT5"
      },
      "execution_count": 13,
      "outputs": []
    },
    {
      "cell_type": "code",
      "source": [
        "class Hibridos(Sayayin, Humano):#Herencia múltiple\n",
        "  def poderes():\n",
        "    print(self.nombre \"puede transformarse en modo bestia\")"
      ],
      "metadata": {
        "id": "wv73Hjn2u8LT"
      },
      "execution_count": 14,
      "outputs": []
    },
    {
      "cell_type": "code",
      "source": [
        "gohan=Hibridos(\"gohan\",2,True,2,2,\"+\",2,2,2,2,20,\"masculino\",1,32,80,1.75,1,2,20,\"durazno\", \"negro\")"
      ],
      "metadata": {
        "id": "MueduRMfvvni"
      },
      "execution_count": 15,
      "outputs": []
    },
    {
      "cell_type": "code",
      "source": [
        "gohan.transformacion(True)"
      ],
      "metadata": {
        "colab": {
          "base_uri": "https://localhost:8080/",
          "height": 36
        },
        "id": "Xd7_xkyXwsi8",
        "outputId": "ea7e0035-f48d-422f-d3d5-037cf4bb3e56"
      },
      "execution_count": 16,
      "outputs": [
        {
          "output_type": "execute_result",
          "data": {
            "text/plain": [
              "'gohan se transformará en ozaru'"
            ],
            "application/vnd.google.colaboratory.intrinsic+json": {
              "type": "string"
            }
          },
          "metadata": {},
          "execution_count": 16
        }
      ]
    }
  ]
}