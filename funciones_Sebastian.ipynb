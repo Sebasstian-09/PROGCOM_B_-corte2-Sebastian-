{
  "nbformat": 4,
  "nbformat_minor": 0,
  "metadata": {
    "colab": {
      "provenance": []
    },
    "kernelspec": {
      "name": "python3",
      "display_name": "Python 3"
    },
    "language_info": {
      "name": "python"
    }
  },
  "cells": [
    {
      "cell_type": "markdown",
      "source": [
        "###Ejercicio 1"
      ],
      "metadata": {
        "id": "mUt1Wnq0SWYt"
      }
    },
    {
      "cell_type": "code",
      "execution_count": 1,
      "metadata": {
        "colab": {
          "base_uri": "https://localhost:8080/"
        },
        "id": "eJXgIWIMSNYM",
        "outputId": "67c6c451-e2f7-4017-8479-b9a81fc85a7c"
      },
      "outputs": [
        {
          "output_type": "stream",
          "name": "stdout",
          "text": [
            "Escribe el año actual: 2022\n",
            "Escribe tu año de nacimiento: 2004\n",
            "Escribe el año de nacimiento de tu mejor amig@: 2002\n",
            "tengo 18 años y mi mejor amig@ tiene 20 años\n"
          ]
        }
      ],
      "source": [
        "def calcularEdad (añoActual, añoDeNacimiento):\n",
        "    edad = añoActual - añoDeNacimiento\n",
        "    return edad\n",
        "\n",
        "actual=int(input(\"Escribe el año actual: \"))\n",
        "edad1=int(input(\"Escribe tu año de nacimiento: \"))\n",
        "edad2=int(input(\"Escribe el año de nacimiento de tu mejor amig@: \"))\n",
        "miEdad=calcularEdad(actual, edad1)\n",
        "edadDeMiAmigo=calcularEdad(actual, edad2)\n",
        "\n",
        "print(\"tengo\", miEdad, \"años y mi mejor amig@ tiene\", edadDeMiAmigo, \"años\")"
      ]
    },
    {
      "cell_type": "markdown",
      "source": [
        "###Ejercico 2"
      ],
      "metadata": {
        "id": "HmrevVt-SbXl"
      }
    },
    {
      "cell_type": "code",
      "source": [
        "def informacionPersonal ():\n",
        "    name = \"Juana de Arco\"\n",
        "    age = 19\n",
        "    country = \"Francia\"\n",
        "    return (name, age, country)\n",
        "(nombre, edad, país)=informacionPersonal()\n",
        "print (nombre + \", de \" + país + \", tiene \" + str(edad) + \" años de edad.\")"
      ],
      "metadata": {
        "colab": {
          "base_uri": "https://localhost:8080/"
        },
        "id": "zXliuftOSVGO",
        "outputId": "e70fa5f1-4d1a-4214-aa75-ca0ae075fd47"
      },
      "execution_count": 2,
      "outputs": [
        {
          "output_type": "stream",
          "name": "stdout",
          "text": [
            "Juana de Arco, de Francia, tiene 19 años de edad.\n"
          ]
        }
      ]
    }
  ]
}