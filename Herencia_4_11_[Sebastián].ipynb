{
  "nbformat": 4,
  "nbformat_minor": 0,
  "metadata": {
    "colab": {
      "provenance": []
    },
    "kernelspec": {
      "name": "python3",
      "display_name": "Python 3"
    },
    "language_info": {
      "name": "python"
    }
  },
  "cells": [
    {
      "cell_type": "code",
      "execution_count": 84,
      "metadata": {
        "id": "0UazCkLFghhH"
      },
      "outputs": [],
      "source": [
        "class Humano:\n",
        "  def __init__(self, nombre, ojos, pelo, cejas, genero, peso, estatura, colorojos, colorpelo, colorcejas):\n",
        "    self.nombre=nombre\n",
        "    self.ojos=ojos\n",
        "    self.pelo=pelo\n",
        "    self.cejas=cejas\n",
        "    self.genero=genero\n",
        "    self.peso=peso\n",
        "    self.estatura=estatura\n",
        "    if self.ojos == False or self.ojos == 0:\n",
        "      self.colorojos=None\n",
        "    else:\n",
        "      self.colorojos=colorojos\n",
        "    if self.pelo == True:\n",
        "      self.colorpelo=colorpelo\n",
        "    else:\n",
        "      self.colorpelo=None\n",
        "    self.colorcejas=colorcejas\n",
        "  \n",
        "  def movilizarse(self, vel):\n",
        "    #velocidad esta en km/h\n",
        "    if vel<0:\n",
        "      vel*=-1\n",
        "      print(f\"{self.nombre} esta retrocediendo\")\n",
        "      return vel\n",
        "    else: \n",
        "      vel=vel\n",
        "      print(f\"{self.nombre} esta avanzando\")\n",
        "      return vel\n",
        "    if vel==0:\n",
        "      return f\"{self.nombre} está reposo\"\n",
        "    elif vel>0 and vel<=1:\n",
        "      return f\"{self.nombre} está gateando\"\n",
        "    elif vel>1 and vel<=5:\n",
        "      return f\"{self.nombre} está caminando\"\n",
        "    elif vel>5 and vel<=8:\n",
        "      return f\"{self.nombre} está trotando\"\n",
        "    elif vel>8 and vel<=44.19:\n",
        "      return f\"{self.nombre} está corriendo\"\n",
        "    elif vel>44.19 and vel<=10000:\n",
        "      return f\"{self.nombre} está volando\"\n",
        "    else:\n",
        "      return f\"{self.nombre} posiblemente no es humano\"\n",
        "  \n",
        "  def trabajar(self, trabajo):\n",
        "    trabajos=[\"desempleado\", \"estudiante\", \"cientifico\", \"policía\", \"medico\"]\n",
        "    if trabajos==0:\n",
        "      print(self.nombre, \"está desempleado\")\n",
        "    elif trabajos==1:\n",
        "      print(self.nombre, \"es estudiante\")\n",
        "    elif trabajos==2:\n",
        "      print(self.nombre, \"es cientifico\")\n",
        "    elif trabajos==3:\n",
        "      print(self.nombre, \"es policía\")\n",
        "    elif trabajos==4:\n",
        "      print(self.nombre, \"es medico\")"
      ]
    },
    {
      "cell_type": "code",
      "source": [
        "class Saiyajin:\n",
        "  def __init__(self, nombre, ojos, pelo, cejas, genero, peso, estatura):\n",
        "    self.nombre=nombre\n",
        "    self.ojos=ojos\n",
        "    self.pelo=pelo\n",
        "    self.cejas=cejas\n",
        "    self.genero=genero\n",
        "    self.peso=peso\n",
        "    self.estatura=estatura\n",
        "    if self.ojos == False or self.ojos == 0:\n",
        "      self.colorojos=None\n",
        "    else:\n",
        "      self.colorojos=\"negro\"\n",
        "    if self.pelo == True:\n",
        "      self.colorpelo=\"negro\"\n",
        "    else:\n",
        "      self.colorpelo=None\n",
        "    self.colorcejas=\"negro\"\n",
        "    self.cola_de_mono=True\n",
        "  \n",
        "  def movilizarse(self, vel):\n",
        "    #velocidad esta en km/h\n",
        "    if vel<0:\n",
        "      vel*=-1\n",
        "      print(f\"{self.nombre} esta retrocediendo\")\n",
        "      return vel\n",
        "    else: \n",
        "      vel=vel\n",
        "      print(f\"{self.nombre} esta avanzando\")\n",
        "      return vel\n",
        "    if vel==0:\n",
        "      return f\"{self.nombre} está reposo\"\n",
        "    elif vel>0 and vel<=5:\n",
        "      return f\"{self.nombre} está caminando\"\n",
        "    elif vel>5 and vel<=8:\n",
        "      return f\"{self.nombre} está trotando\"\n",
        "    elif vel>8 and vel<=80:\n",
        "      return f\"{self.nombre} está corriendo\"\n",
        "    elif vel>80 and  vel<=100000:\n",
        "      return f\"{self.nombre} está volando\"\n",
        "    else:\n",
        "      return f\"{self.nombre} posiblemente no es sayayin\"\n",
        "  \n",
        "  def trabajar(self, trabajo):\n",
        "    trabajos=[\"guerrero\", \"mercenario\", \"granjero\", \"rey\", \"principe\"]\n",
        "    if trabajos==0:\n",
        "      print(self.nombre, \"es guerrero\")\n",
        "    elif trabajos==1:\n",
        "      print(self.nombre, \"es mercenario\")\n",
        "    elif trabajos==2:\n",
        "      print(self.nombre, \"es granjero\")\n",
        "    elif trabajos==3:\n",
        "      print(self.nombre, \"es rey\")\n",
        "    elif trabajos==4:\n",
        "      print(self.nombre, \"es principe\")\n",
        "    \n",
        "  \n",
        "  def transformacion(self, luna_llena):\n",
        "    if luna_llena==True:\n",
        "      if self.cola_de_mono==True:\n",
        "        return f\"{self.nombre} se transformará en ozaru\"\n",
        "      else:\n",
        "        return f\"{self.nombre} no se transformará en ozaru\"\n",
        "    else:\n",
        "      return f\"no es posible que {self.nombre} realize la transformación\"\n",
        "  \n",
        "  def ssj(self, putisteria):\n",
        "    if putisteria >= 4000 and putisteria < 100000:\n",
        "      self.colorpelo=\"Rubio\"\n",
        "      self.colorojos=\"Aguamarina\"\n",
        "      self.colorcejas=\"Rubio\"\n",
        "    elif putisteria >= 100000 and putisteria < 1000000:\n",
        "      self.colorpelo=\"Rojo\"\n",
        "      self.colorojos=\"Rojo\"\n",
        "      self.colorcejas=\"Rojo\"\n",
        "    elif putisteria >= 1000000 and putisteria < 5000000:\n",
        "      self.colorpelo=\"Azul\"\n",
        "      self.colorojos=\"Azul\"\n",
        "      self.colorcejas=\"Azul\"\n",
        "    elif putisteria >= 5000000:\n",
        "      self.colorpelo=\"Cenizo\"\n",
        "      self.colorojos=\"Plateado\"\n",
        "      self.colorcejas=\"Plateado\"\n",
        "    else:\n",
        "      self.colorpelo=\"Negro\"\n",
        "      self.colorojos=\"Negro\"\n",
        "      self.colorcejas=\"Negro\""
      ],
      "metadata": {
        "id": "BM-RJMaSsYT5"
      },
      "execution_count": 87,
      "outputs": []
    },
    {
      "cell_type": "code",
      "source": [
        "ssj1=Saiyajin(\"Goku Sebastian\", False, True, True, \"Masculino\", 75, 175)"
      ],
      "metadata": {
        "id": "tS8fjxIqdIN7"
      },
      "execution_count": 88,
      "outputs": []
    },
    {
      "cell_type": "code",
      "source": [
        "ssj1.__dict__"
      ],
      "metadata": {
        "colab": {
          "base_uri": "https://localhost:8080/"
        },
        "id": "pPNPMZTWdkUh",
        "outputId": "e3797ecd-b816-4dfe-d877-140e907828ba"
      },
      "execution_count": 89,
      "outputs": [
        {
          "output_type": "execute_result",
          "data": {
            "text/plain": [
              "{'nombre': 'Goku Sebastian',\n",
              " 'ojos': False,\n",
              " 'pelo': True,\n",
              " 'cejas': True,\n",
              " 'genero': 'Masculino',\n",
              " 'peso': 75,\n",
              " 'estatura': 175,\n",
              " 'colorojos': None,\n",
              " 'colorpelo': 'negro',\n",
              " 'colorcejas': 'negro',\n",
              " 'cola_de_mono': True}"
            ]
          },
          "metadata": {},
          "execution_count": 89
        }
      ]
    },
    {
      "cell_type": "code",
      "source": [
        "ssj1.cola_de_mono"
      ],
      "metadata": {
        "colab": {
          "base_uri": "https://localhost:8080/"
        },
        "id": "4zead1fDyhD7",
        "outputId": "208fcdb8-eb5d-49cf-fd1f-bd7e5856cd0e"
      },
      "execution_count": 83,
      "outputs": [
        {
          "output_type": "execute_result",
          "data": {
            "text/plain": [
              "True"
            ]
          },
          "metadata": {},
          "execution_count": 83
        }
      ]
    },
    {
      "cell_type": "code",
      "source": [
        "class Hibridos(Humano, Saiyajin):#Herencia múltiple\n",
        "  def poderes(self):\n",
        "    print(self.nombre, \"puede transformarse en modo bestia\")"
      ],
      "metadata": {
        "id": "wv73Hjn2u8LT"
      },
      "execution_count": 94,
      "outputs": []
    },
    {
      "cell_type": "code",
      "source": [
        "gohan=Hibridos(\"gohan\", 2, True, True, \"Masculino\", 90, 180, \"negro\", \"negro\", \"negro\")"
      ],
      "metadata": {
        "id": "MueduRMfvvni"
      },
      "execution_count": 95,
      "outputs": []
    },
    {
      "cell_type": "code",
      "source": [
        "Hbd2=Hibridos(\"Trunks\", 2, True, True, \"masculino\", 50, 150, \"Celeste\", \"Celeste\", \"Celeste\")\n",
        "Hbd2.__dict__"
      ],
      "metadata": {
        "colab": {
          "base_uri": "https://localhost:8080/"
        },
        "id": "7VTxc5xYtq8L",
        "outputId": "1af8773d-0613-4f44-e4c0-e072376f41e3"
      },
      "execution_count": 79,
      "outputs": [
        {
          "output_type": "execute_result",
          "data": {
            "text/plain": [
              "{'nombre': 'Trunks',\n",
              " 'ojos': 2,\n",
              " 'pelo': True,\n",
              " 'cejas': True,\n",
              " 'genero': 'masculino',\n",
              " 'peso': 50,\n",
              " 'estatura': 150,\n",
              " 'colorojos': 'Celeste',\n",
              " 'colorpelo': 'Celeste',\n",
              " 'colorcejas': 'Celeste'}"
            ]
          },
          "metadata": {},
          "execution_count": 79
        }
      ]
    },
    {
      "cell_type": "code",
      "source": [
        "gohan.cola_de_mono=False"
      ],
      "metadata": {
        "id": "O7MPZbOFcGH-"
      },
      "execution_count": 32,
      "outputs": []
    },
    {
      "cell_type": "code",
      "source": [
        "gohan.ssj(500000)\n",
        "gohan.__dict__"
      ],
      "metadata": {
        "colab": {
          "base_uri": "https://localhost:8080/"
        },
        "id": "lwELLnMibtSH",
        "outputId": "e4bf7cc9-3e8e-416a-88cf-65d3edaf0854"
      },
      "execution_count": 39,
      "outputs": [
        {
          "output_type": "execute_result",
          "data": {
            "text/plain": [
              "{'nombre': 'gohan',\n",
              " 'ojos': 2,\n",
              " 'pelo': True,\n",
              " 'cejas': True,\n",
              " 'genero': 'Masculino',\n",
              " 'peso': 90,\n",
              " 'estatura': 180,\n",
              " 'colorojos': 'Rojo',\n",
              " 'colorpelo': 'Rojo',\n",
              " 'colorcejas': 'Rojo'}"
            ]
          },
          "metadata": {},
          "execution_count": 39
        }
      ]
    },
    {
      "cell_type": "code",
      "source": [
        "gohan.transformacion(True)"
      ],
      "metadata": {
        "colab": {
          "base_uri": "https://localhost:8080/",
          "height": 35
        },
        "id": "Xd7_xkyXwsi8",
        "outputId": "2a171865-eefe-4ca0-845d-1e0ec6183059"
      },
      "execution_count": 33,
      "outputs": [
        {
          "output_type": "execute_result",
          "data": {
            "text/plain": [
              "'gohan no se transformará en ozaru'"
            ],
            "application/vnd.google.colaboratory.intrinsic+json": {
              "type": "string"
            }
          },
          "metadata": {},
          "execution_count": 33
        }
      ]
    }
  ]
}