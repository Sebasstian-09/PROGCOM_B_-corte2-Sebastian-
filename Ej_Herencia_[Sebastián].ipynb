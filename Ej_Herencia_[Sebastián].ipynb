{
  "nbformat": 4,
  "nbformat_minor": 0,
  "metadata": {
    "colab": {
      "provenance": []
    },
    "kernelspec": {
      "name": "python3",
      "display_name": "Python 3"
    },
    "language_info": {
      "name": "python"
    }
  },
  "cells": [
    {
      "cell_type": "code",
      "execution_count": null,
      "metadata": {
        "id": "QidhZh7pg20R"
      },
      "outputs": [],
      "source": [
        "class Perros():\n",
        "  def ladrar(self):\n",
        "    print(\"GUAAU GUAAU\")\n",
        "  def grunir(self):\n",
        "    print(\"GRRRRRR GRRRRRR\")"
      ]
    },
    {
      "cell_type": "code",
      "source": [
        "class Caniches(Perros):\n",
        "  def ladrar(self):\n",
        "    print(\"guau guau guau guau\")\n",
        "  def grunir(self):\n",
        "    print(\"gñiiii gñiii gñiii\")"
      ],
      "metadata": {
        "id": "7GAsDzcNhNHP"
      },
      "execution_count": null,
      "outputs": []
    },
    {
      "cell_type": "code",
      "source": [
        "class Pastor_Aleman(Perros):\n",
        "  def ladrar(self):\n",
        "    print(\"GuaaUUU GUAAAUUU GuaaUUU\")\n",
        "  def grunir(self):\n",
        "    print(\"Agrrgrrrffagrrrfsgrr\")"
      ],
      "metadata": {
        "id": "KSMObquqhjBV"
      },
      "execution_count": null,
      "outputs": []
    },
    {
      "cell_type": "code",
      "source": [
        "class Shepadoodle(Caniches, Pastor_Aleman):\n",
        "  def xladrar(self, veces):\n",
        "    for cuantas in range(veces):\n",
        "      super(Shepadoodle, self).ladrar()"
      ],
      "metadata": {
        "id": "KPMPde8eiJnC"
      },
      "execution_count": null,
      "outputs": []
    },
    {
      "cell_type": "code",
      "source": [
        "Tommy=Pastor_Aleman()\n",
        "lul=Caniches()\n",
        "milu=Shepadoodle()\n",
        "milu.xladrar(2)"
      ],
      "metadata": {
        "colab": {
          "base_uri": "https://localhost:8080/"
        },
        "id": "W-hFu0xDikMh",
        "outputId": "40d1dd28-da55-4d1b-e804-8670c2bd760e"
      },
      "execution_count": null,
      "outputs": [
        {
          "output_type": "stream",
          "name": "stdout",
          "text": [
            "guau guau guau guau\n",
            "guau guau guau guau\n"
          ]
        }
      ]
    },
    {
      "cell_type": "code",
      "source": [
        "class Asignar(list):\n",
        "  pass"
      ],
      "metadata": {
        "id": "KoIad-JcktQt"
      },
      "execution_count": null,
      "outputs": []
    },
    {
      "cell_type": "code",
      "source": [
        "a=Asignar()"
      ],
      "metadata": {
        "id": "zL7r8Dlrkw2V"
      },
      "execution_count": null,
      "outputs": []
    },
    {
      "cell_type": "code",
      "source": [
        "a.append(4)\n",
        "a"
      ],
      "metadata": {
        "colab": {
          "base_uri": "https://localhost:8080/"
        },
        "id": "9iRw-r7wkzkV",
        "outputId": "aee3385b-ee8b-46f9-9ee9-500a45ff30e7"
      },
      "execution_count": null,
      "outputs": [
        {
          "output_type": "execute_result",
          "data": {
            "text/plain": [
              "[4]"
            ]
          },
          "metadata": {},
          "execution_count": 10
        }
      ]
    },
    {
      "cell_type": "code",
      "source": [
        "class Padre():\n",
        "  def __init__(self, ojos, cejas):\n",
        "    self.ojos=ojos\n",
        "    self.cejas=cejas\n",
        "class Hijo(Padre):\n",
        "  def __init__(self, ojos, cejas, cara):\n",
        "    self.ojos=ojos\n",
        "    self.cejas=cejas\n",
        "    self.cara=cara"
      ],
      "metadata": {
        "id": "qA0y5dbXk4EV"
      },
      "execution_count": null,
      "outputs": []
    },
    {
      "cell_type": "code",
      "source": [
        "manuel=Padre(\"Marrón\", \"Miel\")\n",
        "Tomas=Hijo(\"Rubio\", \"Verdes\", \"Larga\")\n",
        "print(Tomas.ojos, Tomas.cejas, Tomas.cara)"
      ],
      "metadata": {
        "colab": {
          "base_uri": "https://localhost:8080/"
        },
        "id": "giqDJXUTlKD0",
        "outputId": "4f2ec4f4-a1ad-4bd6-a922-6508dca81fa3"
      },
      "execution_count": null,
      "outputs": [
        {
          "output_type": "stream",
          "name": "stdout",
          "text": [
            "Rubio Verdes Larga\n"
          ]
        }
      ]
    },
    {
      "cell_type": "code",
      "source": [
        "class Abuelo():\n",
        "  def __init__(self, ojos, cejas):\n",
        "    self.ojos=ojos\n",
        "    self.cejas=cejas\n",
        "class Hijo2(Abuelo):\n",
        "  def __init__(self, ojos, cejas, cara):\n",
        "    super().__init__(ojos, cejas)\n",
        "    self.cara=cara"
      ],
      "metadata": {
        "id": "nXfi_S-il-sK"
      },
      "execution_count": null,
      "outputs": []
    },
    {
      "cell_type": "code",
      "source": [
        "Abuelo=Abuelo(\"Negro\", \"Marrón\")\n",
        "Mateo=Hijo2(\"Marrón\", \"Verdes\", \"Gordita\")\n",
        "Mateo.__dict__"
      ],
      "metadata": {
        "colab": {
          "base_uri": "https://localhost:8080/"
        },
        "id": "TJZC8OQ7mYvI",
        "outputId": "177f5127-cdc9-4ed1-b494-351ad72e8148"
      },
      "execution_count": null,
      "outputs": [
        {
          "output_type": "execute_result",
          "data": {
            "text/plain": [
              "{'ojos': 'Marrón', 'cejas': 'Verdes', 'cara': 'Gordita'}"
            ]
          },
          "metadata": {},
          "execution_count": 28
        }
      ]
    }
  ]
}