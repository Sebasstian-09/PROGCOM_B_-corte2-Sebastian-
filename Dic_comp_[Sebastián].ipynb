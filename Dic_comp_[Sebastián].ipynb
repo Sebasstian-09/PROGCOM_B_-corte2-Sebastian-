{
  "nbformat": 4,
  "nbformat_minor": 0,
  "metadata": {
    "colab": {
      "provenance": []
    },
    "kernelspec": {
      "name": "python3",
      "display_name": "Python 3"
    },
    "language_info": {
      "name": "python"
    }
  },
  "cells": [
    {
      "cell_type": "code",
      "execution_count": null,
      "metadata": {
        "id": "YpxtTFtkhRKb"
      },
      "outputs": [],
      "source": [
        "#Diccionarios por comprensión"
      ]
    },
    {
      "cell_type": "code",
      "source": [
        "import random\n",
        "compañeros=[]\n",
        "print(\"Para no agregar mas nombres escribe '0'\")\n",
        "a=\"t\"\n",
        "while a!=\"0\":\n",
        "  a=(input(\"Ingresa el nombre de tu compañero: \"))\n",
        "  if a!=\"0\":\n",
        "    compañeros.append(a)\n",
        "cantidad=len(compañeros)\n",
        "num_alt = {orden:random.randint(1,cantidad) for orden in compañeros }\n",
        "orden=sorted(num_alt.values())\n",
        "print(num_alt)\n",
        "print(orden)"
      ],
      "metadata": {
        "colab": {
          "base_uri": "https://localhost:8080/"
        },
        "id": "jJktLnaymtFP",
        "outputId": "0fe0d300-3f56-4263-8914-8daf81e183cc"
      },
      "execution_count": 24,
      "outputs": [
        {
          "output_type": "stream",
          "name": "stdout",
          "text": [
            "Para no agregar mas nombres escribe '0'\n",
            "Ingresa el nombre de tu compañero: Juan\n",
            "Ingresa el nombre de tu compañero: Maria\n",
            "Ingresa el nombre de tu compañero: Camila\n",
            "Ingresa el nombre de tu compañero: Carlos\n",
            "Ingresa el nombre de tu compañero: Johan\n",
            "Ingresa el nombre de tu compañero: Brian\n",
            "Ingresa el nombre de tu compañero: Silvia\n",
            "Ingresa el nombre de tu compañero: 0\n",
            "{'Juan': 4, 'Maria': 1, 'Camila': 5, 'Carlos': 6, 'Johan': 4, 'Brian': 4, 'Silvia': 2}\n",
            "[1, 2, 4, 4, 4, 5, 6]\n"
          ]
        }
      ]
    }
  ]
}