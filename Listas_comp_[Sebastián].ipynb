{
  "nbformat": 4,
  "nbformat_minor": 0,
  "metadata": {
    "colab": {
      "provenance": []
    },
    "kernelspec": {
      "name": "python3",
      "display_name": "Python 3"
    },
    "language_info": {
      "name": "python"
    }
  },
  "cells": [
    {
      "cell_type": "markdown",
      "source": [
        "#Samuel\n",
        "###La lista por comprensión es una construcción  sintáctica disponible en python con la que se pueden crear una lista a partir de otros elementos iterables. Siendo una de las contracciones más elegantes del lenguaje. A continuación, se mostrará la sintaxis  básica para trabajar con las listas por comprensión."
      ],
      "metadata": {
        "id": "FkgSRGcvn_W4"
      }
    },
    {
      "cell_type": "code",
      "source": [
        "#Los tipos de datos mutables son todos aquellos a los que es posible cambiar, modificar o actualizar\n",
        "#Los objetos mutables más comunes son las listas, diccionarios y conjuntos que sirven para guardar valores\n",
        "\n",
        "#SINTAXIS DE LISTAS POR COMPRENSIÓN\n",
        "\n",
        "nueva_lista = [expresion bucle_for condiciones]\n",
        "\n",
        "#Entre corchetes se escribe una expresión seguida de un bucle for sobre el que itera, para crear la lista"
      ],
      "metadata": {
        "id": "c9pXqBBYo-lo"
      },
      "execution_count": null,
      "outputs": []
    },
    {
      "cell_type": "code",
      "source": [
        "numbers = [1, 2, 3, 4]\n",
        "results = []\n",
        "for n in numbers:\n",
        "  results.append(n+1)\n",
        "results"
      ],
      "metadata": {
        "colab": {
          "base_uri": "https://localhost:8080/"
        },
        "id": "BXhWfDsal6p3",
        "outputId": "ac950804-37e3-433e-f310-511fd3d978fc"
      },
      "execution_count": 2,
      "outputs": [
        {
          "output_type": "execute_result",
          "data": {
            "text/plain": [
              "[2, 3, 4, 5]"
            ]
          },
          "metadata": {},
          "execution_count": 2
        }
      ]
    },
    {
      "cell_type": "code",
      "execution_count": 3,
      "metadata": {
        "colab": {
          "base_uri": "https://localhost:8080/"
        },
        "id": "-tKJPp8zlXr-",
        "outputId": "40299857-1db4-49af-dc67-ab35de36d2fb"
      },
      "outputs": [
        {
          "output_type": "execute_result",
          "data": {
            "text/plain": [
              "[2, 3, 4, 5]"
            ]
          },
          "metadata": {},
          "execution_count": 3
        }
      ],
      "source": [
        "results = [n + 1 for n in numbers if n < 5]\n",
        "results"
      ]
    },
    {
      "cell_type": "code",
      "source": [
        "results2 = lambda numbers : results\n",
        "print(results2(numbers))"
      ],
      "metadata": {
        "colab": {
          "base_uri": "https://localhost:8080/"
        },
        "id": "tp8Tvgh8mAil",
        "outputId": "fcdc3c54-5517-423c-8406-188588166a79"
      },
      "execution_count": 4,
      "outputs": [
        {
          "output_type": "stream",
          "name": "stdout",
          "text": [
            "[2, 3, 4, 5]\n"
          ]
        }
      ]
    },
    {
      "cell_type": "markdown",
      "source": [
        "#Jesus"
      ],
      "metadata": {
        "id": "lV19evXCrM1b"
      }
    },
    {
      "cell_type": "code",
      "source": [
        "\n",
        "n=int(input(\"Hasta que número quieres imprimir los pares e impares: \"))\n",
        "pares=[número for número in range(0,n+1) if número%2==0]\n",
        "print(pares)\n",
        "impares=[número for número in range(0,n+1) if número%2!=0]\n",
        "print(impares)"
      ],
      "metadata": {
        "colab": {
          "base_uri": "https://localhost:8080/"
        },
        "id": "rWmVu4BDni-6",
        "outputId": "41ad8486-c9f0-4555-f11e-8897ee08b40b"
      },
      "execution_count": 5,
      "outputs": [
        {
          "output_type": "stream",
          "name": "stdout",
          "text": [
            "Hasta que número quieres imprimir los pares e impares: 10\n",
            "[0, 2, 4, 6, 8, 10]\n",
            "[1, 3, 5, 7, 9]\n"
          ]
        }
      ]
    },
    {
      "cell_type": "code",
      "source": [
        "num=int(input(\"Hasta que número quieres imprimir los pares e impares: \"))\n",
        "def hola(n): \n",
        " pares=[número for número in range(0,n+1) if número%2==0]\n",
        " print(pares)\n",
        " impares=[número for número in range(0,n+1) if número%2!=0]\n",
        " print(impares)\n",
        "hola(num)"
      ],
      "metadata": {
        "colab": {
          "base_uri": "https://localhost:8080/"
        },
        "id": "NyJ8Z0T9rApH",
        "outputId": "8f5e3b06-2fc4-49c0-f187-5642194cfbd4"
      },
      "execution_count": 6,
      "outputs": [
        {
          "output_type": "stream",
          "name": "stdout",
          "text": [
            "Hasta que número quieres imprimir los pares e impares: 10\n",
            "[0, 2, 4, 6, 8, 10]\n",
            "[1, 3, 5, 7, 9]\n"
          ]
        }
      ]
    },
    {
      "cell_type": "code",
      "source": [
        "num=int(input(\"Hasta que número quieres imprimir los pares e impares: \"))\n",
        "mi_lista=[n for n in range(0,num+1)]\n",
        "pares=list(filter(lambda num: num%2==0,mi_lista))\n",
        "print(pares)\n",
        "impares=list(filter(lambda num: num%2!=0,mi_lista))\n",
        "print(impares)"
      ],
      "metadata": {
        "colab": {
          "base_uri": "https://localhost:8080/"
        },
        "id": "EjovtQemrDuD",
        "outputId": "1da5e079-167f-4a51-f256-5cb9a6a4ab0f"
      },
      "execution_count": 7,
      "outputs": [
        {
          "output_type": "stream",
          "name": "stdout",
          "text": [
            "Hasta que número quieres imprimir los pares e impares: 10\n",
            "[0, 2, 4, 6, 8, 10]\n",
            "[1, 3, 5, 7, 9]\n"
          ]
        }
      ]
    },
    {
      "cell_type": "markdown",
      "source": [
        "#Jhon Orduz"
      ],
      "metadata": {
        "id": "WXx3SiS8raPD"
      }
    },
    {
      "cell_type": "code",
      "source": [
        "#Número perfecto\n",
        "\n",
        "def perfecto(numero):\n",
        "  perf=0\n",
        "  for i in range (1,numero):\n",
        "    if numero%i==0:\n",
        "      perf+=i\n",
        "  if perf == numero:\n",
        "    print(\"es un número perfecto\")\n",
        "    return True  \n",
        "  else:\n",
        "    print(\"No es número perfecto\")\n",
        "    "
      ],
      "metadata": {
        "id": "SsaOqHI-rXXx"
      },
      "execution_count": 8,
      "outputs": []
    },
    {
      "cell_type": "code",
      "source": [
        "lista=[n for n in range (1, 11)]\n",
        "perf1=[x for x in lista if perfecto(x)==True]\n"
      ],
      "metadata": {
        "colab": {
          "base_uri": "https://localhost:8080/"
        },
        "id": "dNJ_rCzRsOFa",
        "outputId": "6bd98d47-06ef-4063-db0e-f53c0911f46a"
      },
      "execution_count": 9,
      "outputs": [
        {
          "output_type": "stream",
          "name": "stdout",
          "text": [
            "No es número perfecto\n",
            "No es número perfecto\n",
            "No es número perfecto\n",
            "No es número perfecto\n",
            "No es número perfecto\n",
            "es un número perfecto\n",
            "No es número perfecto\n",
            "No es número perfecto\n",
            "No es número perfecto\n",
            "No es número perfecto\n"
          ]
        }
      ]
    },
    {
      "cell_type": "code",
      "source": [
        "perf2=list(map(lambda x: perfecto(x)==True, lista))"
      ],
      "metadata": {
        "colab": {
          "base_uri": "https://localhost:8080/"
        },
        "id": "blkBF85Csg0x",
        "outputId": "805966df-616e-424e-aa28-78ed91737b5d"
      },
      "execution_count": 10,
      "outputs": [
        {
          "output_type": "stream",
          "name": "stdout",
          "text": [
            "No es número perfecto\n",
            "No es número perfecto\n",
            "No es número perfecto\n",
            "No es número perfecto\n",
            "No es número perfecto\n",
            "es un número perfecto\n",
            "No es número perfecto\n",
            "No es número perfecto\n",
            "No es número perfecto\n",
            "No es número perfecto\n"
          ]
        }
      ]
    }
  ]
}