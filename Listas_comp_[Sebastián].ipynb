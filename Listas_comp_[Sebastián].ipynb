{
  "nbformat": 4,
  "nbformat_minor": 0,
  "metadata": {
    "colab": {
      "provenance": []
    },
    "kernelspec": {
      "name": "python3",
      "display_name": "Python 3"
    },
    "language_info": {
      "name": "python"
    }
  },
  "cells": [
    {
      "cell_type": "markdown",
      "source": [
        "#Samuel\n",
        "###La lista por comprensión es una construcción  sintáctica disponible en python con la que se pueden crear una lista a partir de otros elementos iterables. Siendo una de las contracciones más elegantes del lenguaje. A continuación, se mostrará la sintaxis  básica para trabajar con las listas por comprensión."
      ],
      "metadata": {
        "id": "FkgSRGcvn_W4"
      }
    },
    {
      "cell_type": "code",
      "source": [
        "#Los tipos de datos mutables son todos aquellos a los que es posible cambiar, modificar o actualizar\n",
        "#Los objetos mutables más comunes son las listas, diccionarios y conjuntos que sirven para guardar valores\n",
        "\n",
        "#SINTAXIS DE LISTAS POR COMPRENSIÓN\n",
        "\n",
        "nueva_lista = [expresion bucle_for condiciones]\n",
        "\n",
        "#Entre corchetes se escribe una expresión seguida de un bucle for sobre el que itera, para crear la lista"
      ],
      "metadata": {
        "id": "c9pXqBBYo-lo"
      },
      "execution_count": null,
      "outputs": []
    },
    {
      "cell_type": "code",
      "source": [
        "numbers = [1, 2, 3, 4]\n",
        "results = []\n",
        "for n in numbers:\n",
        "  results.append(n+1)\n",
        "results"
      ],
      "metadata": {
        "colab": {
          "base_uri": "https://localhost:8080/"
        },
        "id": "BXhWfDsal6p3",
        "outputId": "ac950804-37e3-433e-f310-511fd3d978fc"
      },
      "execution_count": null,
      "outputs": [
        {
          "output_type": "execute_result",
          "data": {
            "text/plain": [
              "[2, 3, 4, 5]"
            ]
          },
          "metadata": {},
          "execution_count": 2
        }
      ]
    },
    {
      "cell_type": "code",
      "execution_count": null,
      "metadata": {
        "colab": {
          "base_uri": "https://localhost:8080/"
        },
        "id": "-tKJPp8zlXr-",
        "outputId": "40299857-1db4-49af-dc67-ab35de36d2fb"
      },
      "outputs": [
        {
          "output_type": "execute_result",
          "data": {
            "text/plain": [
              "[2, 3, 4, 5]"
            ]
          },
          "metadata": {},
          "execution_count": 3
        }
      ],
      "source": [
        "results = [n + 1 for n in numbers if n < 5]\n",
        "results"
      ]
    },
    {
      "cell_type": "code",
      "source": [
        "results2 = lambda numbers : results\n",
        "print(results2(numbers))"
      ],
      "metadata": {
        "colab": {
          "base_uri": "https://localhost:8080/"
        },
        "id": "tp8Tvgh8mAil",
        "outputId": "fcdc3c54-5517-423c-8406-188588166a79"
      },
      "execution_count": null,
      "outputs": [
        {
          "output_type": "stream",
          "name": "stdout",
          "text": [
            "[2, 3, 4, 5]\n"
          ]
        }
      ]
    },
    {
      "cell_type": "markdown",
      "source": [
        "#Jesus"
      ],
      "metadata": {
        "id": "lV19evXCrM1b"
      }
    },
    {
      "cell_type": "code",
      "source": [
        "\n",
        "n=int(input(\"Hasta que número quieres imprimir los pares e impares: \"))\n",
        "pares=[número for número in range(0,n+1) if número%2==0]\n",
        "print(pares)\n",
        "impares=[número for número in range(0,n+1) if número%2!=0]\n",
        "print(impares)"
      ],
      "metadata": {
        "colab": {
          "base_uri": "https://localhost:8080/"
        },
        "id": "rWmVu4BDni-6",
        "outputId": "41ad8486-c9f0-4555-f11e-8897ee08b40b"
      },
      "execution_count": null,
      "outputs": [
        {
          "output_type": "stream",
          "name": "stdout",
          "text": [
            "Hasta que número quieres imprimir los pares e impares: 10\n",
            "[0, 2, 4, 6, 8, 10]\n",
            "[1, 3, 5, 7, 9]\n"
          ]
        }
      ]
    },
    {
      "cell_type": "code",
      "source": [
        "num=int(input(\"Hasta que número quieres imprimir los pares e impares: \"))\n",
        "def hola(n): \n",
        " pares=[número for número in range(0,n+1) if número%2==0]\n",
        " print(pares)\n",
        " impares=[número for número in range(0,n+1) if número%2!=0]\n",
        " print(impares)\n",
        "hola(num)"
      ],
      "metadata": {
        "colab": {
          "base_uri": "https://localhost:8080/"
        },
        "id": "NyJ8Z0T9rApH",
        "outputId": "8f5e3b06-2fc4-49c0-f187-5642194cfbd4"
      },
      "execution_count": null,
      "outputs": [
        {
          "output_type": "stream",
          "name": "stdout",
          "text": [
            "Hasta que número quieres imprimir los pares e impares: 10\n",
            "[0, 2, 4, 6, 8, 10]\n",
            "[1, 3, 5, 7, 9]\n"
          ]
        }
      ]
    },
    {
      "cell_type": "code",
      "source": [
        "num=int(input(\"Hasta que número quieres imprimir los pares e impares: \"))\n",
        "mi_lista=[n for n in range(0,num+1)]\n",
        "pares=list(filter(lambda num: num%2==0,mi_lista))\n",
        "print(pares)\n",
        "impares=list(filter(lambda num: num%2!=0,mi_lista))\n",
        "print(impares)"
      ],
      "metadata": {
        "colab": {
          "base_uri": "https://localhost:8080/"
        },
        "id": "EjovtQemrDuD",
        "outputId": "1da5e079-167f-4a51-f256-5cb9a6a4ab0f"
      },
      "execution_count": null,
      "outputs": [
        {
          "output_type": "stream",
          "name": "stdout",
          "text": [
            "Hasta que número quieres imprimir los pares e impares: 10\n",
            "[0, 2, 4, 6, 8, 10]\n",
            "[1, 3, 5, 7, 9]\n"
          ]
        }
      ]
    },
    {
      "cell_type": "markdown",
      "source": [
        "#Jhon Orduz"
      ],
      "metadata": {
        "id": "WXx3SiS8raPD"
      }
    },
    {
      "cell_type": "code",
      "source": [
        "#Número perfecto\n",
        "\n",
        "def perfecto(numero):\n",
        "  perf=0\n",
        "  for i in range (1,numero):\n",
        "    if numero%i==0:\n",
        "      perf+=i\n",
        "  if perf == numero:\n",
        "    print(\"es un número perfecto\")\n",
        "    return True  \n",
        "  else:\n",
        "    print(\"No es número perfecto\")\n",
        "    "
      ],
      "metadata": {
        "id": "SsaOqHI-rXXx"
      },
      "execution_count": null,
      "outputs": []
    },
    {
      "cell_type": "code",
      "source": [
        "lista=[n for n in range (1, 11)]\n",
        "perf1=[x for x in lista if perfecto(x)==True]\n"
      ],
      "metadata": {
        "colab": {
          "base_uri": "https://localhost:8080/"
        },
        "id": "dNJ_rCzRsOFa",
        "outputId": "6bd98d47-06ef-4063-db0e-f53c0911f46a"
      },
      "execution_count": null,
      "outputs": [
        {
          "output_type": "stream",
          "name": "stdout",
          "text": [
            "No es número perfecto\n",
            "No es número perfecto\n",
            "No es número perfecto\n",
            "No es número perfecto\n",
            "No es número perfecto\n",
            "es un número perfecto\n",
            "No es número perfecto\n",
            "No es número perfecto\n",
            "No es número perfecto\n",
            "No es número perfecto\n"
          ]
        }
      ]
    },
    {
      "cell_type": "code",
      "source": [
        "perf2=list(map(lambda x: perfecto(x)==True, lista))"
      ],
      "metadata": {
        "colab": {
          "base_uri": "https://localhost:8080/"
        },
        "id": "blkBF85Csg0x",
        "outputId": "805966df-616e-424e-aa28-78ed91737b5d"
      },
      "execution_count": null,
      "outputs": [
        {
          "output_type": "stream",
          "name": "stdout",
          "text": [
            "No es número perfecto\n",
            "No es número perfecto\n",
            "No es número perfecto\n",
            "No es número perfecto\n",
            "No es número perfecto\n",
            "es un número perfecto\n",
            "No es número perfecto\n",
            "No es número perfecto\n",
            "No es número perfecto\n",
            "No es número perfecto\n"
          ]
        }
      ]
    },
    {
      "cell_type": "markdown",
      "source": [
        "#Juan David Ramirez"
      ],
      "metadata": {
        "id": "DnuTagCwhpjR"
      }
    },
    {
      "cell_type": "code",
      "source": [
        "#Método clásico\n",
        "import random\n",
        "n1=[random.randint(0,2000) for x in range(100)]\n",
        "n2=[random.randint(0,2000) for x in range(100)]\n",
        "comun=[]\n",
        "for a in n1:\n",
        "  for b in n2:\n",
        "    if a == b:\n",
        "      comun.append(a)\n",
        "print(comun)"
      ],
      "metadata": {
        "colab": {
          "base_uri": "https://localhost:8080/"
        },
        "id": "d4Xg3xw7oIys",
        "outputId": "f97a0909-bea5-46bc-cd20-e532ba499932"
      },
      "execution_count": 4,
      "outputs": [
        {
          "output_type": "stream",
          "name": "stdout",
          "text": [
            "[1335, 244, 1641, 591, 1281, 695, 229]\n"
          ]
        }
      ]
    },
    {
      "cell_type": "code",
      "source": [
        "#Método por comprensión\n",
        "import random\n",
        "n1=[random.randint(0,2000) for x in range(100)]\n",
        "n2=[random.randint(0,2000) for x in range(100)]\n",
        "comun=[x for x in n1 for y in n2 if x==y]\n",
        "print(comun)"
      ],
      "metadata": {
        "colab": {
          "base_uri": "https://localhost:8080/"
        },
        "id": "0R9bFnRqmaf-",
        "outputId": "28af86bc-5dea-46b8-9637-b24e6942235e"
      },
      "execution_count": 3,
      "outputs": [
        {
          "output_type": "stream",
          "name": "stdout",
          "text": [
            "[1738, 1659, 518, 287]\n"
          ]
        }
      ]
    },
    {
      "cell_type": "code",
      "source": [
        "#Método lambda\n",
        "import random\n",
        "n1=[random.randint(0,2000) for x in range(100)]\n",
        "n2=[random.randint(0,2000) for x in range(100)]\n",
        "comun=[]\n",
        "comun=list(filter(lambda num:num in n1, n2))\n",
        "print(comun)"
      ],
      "metadata": {
        "colab": {
          "base_uri": "https://localhost:8080/"
        },
        "id": "vPUFDotvr9Hc",
        "outputId": "031a1ae3-67a1-4f1a-9639-d703f5b70f70"
      },
      "execution_count": 7,
      "outputs": [
        {
          "output_type": "stream",
          "name": "stdout",
          "text": [
            "[1798, 1455, 1992, 58, 1210, 756]\n"
          ]
        }
      ]
    },
    {
      "cell_type": "markdown",
      "source": [
        "#Daniel Alarcon"
      ],
      "metadata": {
        "id": "dYN2yyPPsg6y"
      }
    },
    {
      "cell_type": "code",
      "source": [
        "#lambda\n",
        "func=lambda x: x**2\n",
        "func(3)"
      ],
      "metadata": {
        "colab": {
          "base_uri": "https://localhost:8080/"
        },
        "id": "rYAvYV6eslBS",
        "outputId": "bb7b801e-63f2-4815-a647-4ca471a25123"
      },
      "execution_count": 8,
      "outputs": [
        {
          "output_type": "execute_result",
          "data": {
            "text/plain": [
              "9"
            ]
          },
          "metadata": {},
          "execution_count": 8
        }
      ]
    },
    {
      "cell_type": "code",
      "source": [
        "#tradicional\n",
        "def cuadrado(x):\n",
        "  return x**2\n",
        "print(cuadrado(5))"
      ],
      "metadata": {
        "colab": {
          "base_uri": "https://localhost:8080/"
        },
        "id": "yZL448mos1bi",
        "outputId": "b828134e-c158-4af6-aa09-61597fa23e13"
      },
      "execution_count": 9,
      "outputs": [
        {
          "output_type": "stream",
          "name": "stdout",
          "text": [
            "25\n"
          ]
        }
      ]
    },
    {
      "cell_type": "code",
      "source": [
        "#comprensión\n",
        "l=[1,2,3,4]\n",
        "l2=[n**2 for n in l]\n",
        "print(l2)"
      ],
      "metadata": {
        "colab": {
          "base_uri": "https://localhost:8080/"
        },
        "id": "G0W8_w_dtC3h",
        "outputId": "ba2ca62b-e8c5-4592-deb6-112461a6e49d"
      },
      "execution_count": 10,
      "outputs": [
        {
          "output_type": "stream",
          "name": "stdout",
          "text": [
            "[1, 4, 9, 16]\n"
          ]
        }
      ]
    },
    {
      "cell_type": "markdown",
      "source": [
        "#Angie"
      ],
      "metadata": {
        "id": "dhq74iG2tRsW"
      }
    },
    {
      "cell_type": "code",
      "source": [
        "nom1=[\"Samuelle\", \"Angie\", \"Valentina\", \"Alejandro\", \"Jonsito\"]\n",
        "nom2=[\"Samuelle\", \"Andrea\", \"Sandra\", \"Anderson\", \"Jonsito\"]\n"
      ],
      "metadata": {
        "id": "m8g3jqLGtQjv"
      },
      "execution_count": 11,
      "outputs": []
    },
    {
      "cell_type": "code",
      "source": [
        "#por comprensión\n",
        "common=[a for a in nom1 for b in nom2 if a==b]\n",
        "common"
      ],
      "metadata": {
        "colab": {
          "base_uri": "https://localhost:8080/"
        },
        "id": "r15o-hsrvWRw",
        "outputId": "61f6c840-83a4-4e3b-a37d-69872326e3e1"
      },
      "execution_count": 12,
      "outputs": [
        {
          "output_type": "execute_result",
          "data": {
            "text/plain": [
              "['Samuelle', 'Jonsito']"
            ]
          },
          "metadata": {},
          "execution_count": 12
        }
      ]
    },
    {
      "cell_type": "code",
      "source": [
        "#por lambda\n",
        "common1=lambda nom1, nom2: common\n",
        "print(common1(nom1,nom2))"
      ],
      "metadata": {
        "colab": {
          "base_uri": "https://localhost:8080/"
        },
        "id": "6nxOI_fev3KH",
        "outputId": "87422f07-eae6-4c03-a8eb-3b161c216b8c"
      },
      "execution_count": 15,
      "outputs": [
        {
          "output_type": "stream",
          "name": "stdout",
          "text": [
            "['Samuelle', 'Jonsito']\n"
          ]
        }
      ]
    },
    {
      "cell_type": "code",
      "source": [
        "#por def\n",
        "def common(nom1,nom2):\n",
        "  return nom1, nom2\n",
        "  "
      ],
      "metadata": {
        "id": "GGj__OOEvkKA"
      },
      "execution_count": null,
      "outputs": []
    },
    {
      "cell_type": "code",
      "source": [
        "nom1, nom2"
      ],
      "metadata": {
        "colab": {
          "base_uri": "https://localhost:8080/"
        },
        "id": "4N5wuqMZvtp_",
        "outputId": "0edbe4ba-1e8e-42ed-f020-4a446db690b8"
      },
      "execution_count": 13,
      "outputs": [
        {
          "output_type": "execute_result",
          "data": {
            "text/plain": [
              "(['Samuelle', 'Angie', 'Valentina', 'Alejandro', 'Jonsito'],\n",
              " ['Samuelle', 'Andrea', 'Sandra', 'Anderson', 'Jonsito'])"
            ]
          },
          "metadata": {},
          "execution_count": 13
        }
      ]
    },
    {
      "cell_type": "markdown",
      "source": [
        "#Valentina"
      ],
      "metadata": {
        "id": "MlA4CFG6wJIn"
      }
    },
    {
      "cell_type": "code",
      "source": [
        "#tradicional\n",
        "def listaIMC(usuarios):\n",
        "  sis=[]\n",
        "  imc=[]\n",
        "  b=0\n",
        "  a2=0\n",
        "  for n in range(usuarios):\n",
        "    w=input(\"¿Cuál es tu nombre?: \")\n",
        "    b=int(input(\"Ingresa el peso: \"))\n",
        "    a2=int(input(\"Ingresa la altura: \"))\n",
        "    sis.append((w,b/a2**2))\n",
        "    imc.append(b/a2**2)\n",
        "    return sis, imc\n",
        "  \n",
        "user=int(input(\"¿Cuántos usuarios hay?: \")) \n",
        "sis,imc=listaIMC(user)"
      ],
      "metadata": {
        "colab": {
          "base_uri": "https://localhost:8080/"
        },
        "id": "SzPy9e0WwLGi",
        "outputId": "52e8a0bf-8fc9-4cf9-9688-6df1968516d1"
      },
      "execution_count": 18,
      "outputs": [
        {
          "name": "stdout",
          "output_type": "stream",
          "text": [
            "¿Cuántos usuarios hay?: 1\n",
            "¿Cuál es tu nombre?: as\n",
            "Ingresa el peso: 40\n",
            "Ingresa la altura: 140\n"
          ]
        }
      ]
    },
    {
      "cell_type": "code",
      "source": [
        "imc"
      ],
      "metadata": {
        "colab": {
          "base_uri": "https://localhost:8080/"
        },
        "id": "6kTrdBF5xuDe",
        "outputId": "6a53426c-e7e7-41ac-f9e2-adacd162171d"
      },
      "execution_count": 19,
      "outputs": [
        {
          "output_type": "execute_result",
          "data": {
            "text/plain": [
              "[0.0020408163265306124]"
            ]
          },
          "metadata": {},
          "execution_count": 19
        }
      ]
    },
    {
      "cell_type": "code",
      "source": [
        "#comprensión\n",
        "sis=listaIMC(user)\n",
        "sis2=[n for n in imc if n>=18.5]\n",
        "print(sis2)"
      ],
      "metadata": {
        "colab": {
          "base_uri": "https://localhost:8080/"
        },
        "id": "jcpBGvgUyJWm",
        "outputId": "73ec9626-c389-4f75-8681-5339ad796b30"
      },
      "execution_count": 20,
      "outputs": [
        {
          "output_type": "stream",
          "name": "stdout",
          "text": [
            "¿Cuál es tu nombre?: ad\n",
            "Ingresa el peso: 62\n",
            "Ingresa la altura: 176\n",
            "[]\n"
          ]
        }
      ]
    },
    {
      "cell_type": "code",
      "source": [
        "sis"
      ],
      "metadata": {
        "colab": {
          "base_uri": "https://localhost:8080/"
        },
        "id": "5ULJkrmqyqf4",
        "outputId": "3ff34d19-d7f2-44f4-996d-fea399e157d2"
      },
      "execution_count": 21,
      "outputs": [
        {
          "output_type": "execute_result",
          "data": {
            "text/plain": [
              "([('ad', 0.0020015495867768593)], [0.0020015495867768593])"
            ]
          },
          "metadata": {},
          "execution_count": 21
        }
      ]
    },
    {
      "cell_type": "code",
      "source": [
        "#lambda\n",
        "sis3=list(map(lambda x: \"peso insuficiente\" if x<18.5 else \"peso normal\" if (x>=18.5 and x<24.9) else \"sobrepeso\" if (x>=24.9 and x<30) else \"obecidad\", imc))"
      ],
      "metadata": {
        "id": "ZOjTPXkDytl1"
      },
      "execution_count": 22,
      "outputs": []
    },
    {
      "cell_type": "markdown",
      "source": [
        "#Luis Miguel"
      ],
      "metadata": {
        "id": "volD1NG9zfNe"
      }
    },
    {
      "cell_type": "code",
      "source": [
        "#normal\n",
        "print(\"Ingrese su código \")\n",
        "caracter=input()\n",
        "if len(caracter)==8:\n",
        "  if caracter[0]==\"u\":\n",
        "    print(\"Eres estudiante UNAB\")\n",
        "  elif(caracter.startswith(\"a000\")):\n",
        "    print(\"Eres estudiante de los andes\")\n",
        "  else:\n",
        "    if (int(caracter)>=1950):\n",
        "      print(\"Eres estudiante UIS\")\n",
        "\n",
        "else:\n",
        "  print(\"Su código no corresponde a ninguna universidad\")"
      ],
      "metadata": {
        "colab": {
          "base_uri": "https://localhost:8080/"
        },
        "id": "kNGWb9NJzhY2",
        "outputId": "1f2347a9-2e06-4bd5-82dd-45c2ae385f6e"
      },
      "execution_count": 25,
      "outputs": [
        {
          "output_type": "stream",
          "name": "stdout",
          "text": [
            "Ingrese su código \n",
            "00153684\n",
            "Eres estudiante UIS\n"
          ]
        }
      ]
    },
    {
      "cell_type": "code",
      "source": [
        "universidades=[\"unab\",\"uis\", \"andes\"]\n",
        "codigo=[\"U0123456\",\"198562\",\"a0005645\"]\n",
        "u=[cod for cod in codigo if(cod[0]==\"u\" and len(cod)==8)]\n",
        "print(u)"
      ],
      "metadata": {
        "id": "Mn7gMTwV33nP"
      },
      "execution_count": null,
      "outputs": []
    },
    {
      "cell_type": "code",
      "source": [
        "y=list(map(lambda x:\"unab\" if (x[0]==\"U\" or x[0]==\"u\") else None, codigo))\n",
        "y"
      ],
      "metadata": {
        "id": "jGI0NLcK33vO"
      },
      "execution_count": null,
      "outputs": []
    },
    {
      "cell_type": "markdown",
      "source": [
        "#Cristian Caballero"
      ],
      "metadata": {
        "id": "CNcxOQyo1K4J"
      }
    },
    {
      "cell_type": "code",
      "source": [],
      "metadata": {
        "id": "tzMj7RVp1KpJ"
      },
      "execution_count": null,
      "outputs": []
    }
  ]
}