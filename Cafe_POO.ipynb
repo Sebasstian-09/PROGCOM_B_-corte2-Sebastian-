{
  "nbformat": 4,
  "nbformat_minor": 0,
  "metadata": {
    "colab": {
      "provenance": []
    },
    "kernelspec": {
      "name": "python3",
      "display_name": "Python 3"
    },
    "language_info": {
      "name": "python"
    }
  },
  "cells": [
    {
      "cell_type": "code",
      "source": [
        "factura={}\n",
        "productos=[]\n",
        "cantidad=[]\n",
        "precios=[]\n",
        "ivas=[]\n",
        "pagar=[]"
      ],
      "metadata": {
        "id": "mXcX6AuhxgRq"
      },
      "execution_count": 95,
      "outputs": []
    },
    {
      "cell_type": "code",
      "source": [
        "class Ci:\n",
        "  def __init__(self, nombre):\n",
        "    self.nombre=nombre\n",
        "  def IVA(self):\n",
        "    self.iva=(self.precio*0.19)\n",
        "    return self.iva"
      ],
      "metadata": {
        "id": "ckrpv_DNS-yP"
      },
      "execution_count": 96,
      "outputs": []
    },
    {
      "cell_type": "code",
      "source": [
        "class Panes(Ci):\n",
        "  def __init__(self, nombre):\n",
        "    super().__init__(nombre)\n",
        "    self.iva=0\n",
        "    if self.nombre=='0':\n",
        "      self.nombre='Pan'\n",
        "    elif self.nombre==\"1\":\n",
        "      self.nombre=\"Croissant\"\n",
        "    elif self.nombre==\"2\":\n",
        "      self.nombre=\"Churro\"\n",
        "    elif self.nombre==\"3\":\n",
        "      self.nombre=\"Pastelito\"\n",
        "    elif self.nombre==\"4\":\n",
        "      self.nombre=\"Palito de queso\"\n",
        "    if self.nombre=='Pan':\n",
        "      self.precio=800\n",
        "    elif self.nombre==\"Croissant\":\n",
        "      self.precio=3800\n",
        "    elif self.nombre==\"Churro\":\n",
        "      self.precio=2500\n",
        "    elif self.nombre==\"Pastelito\":\n",
        "      self.precio=4000\n",
        "    elif self.nombre==\"Palito de queso\":\n",
        "      self.precio=3000\n",
        "  def factura(self):\n",
        "    productos.append(self.nombre)\n",
        "    b=int(input('Ingrese la cantidad solicitada de este producto'))\n",
        "    cantidad.append(b)\n",
        "    precios.append(self.precio)\n",
        "    ivas.append(self.iva*b)\n",
        "    pagar.append(self.precio*b)"
      ],
      "metadata": {
        "id": "aA3qYS5F9Z2-"
      },
      "execution_count": 97,
      "outputs": []
    },
    {
      "cell_type": "code",
      "execution_count": 98,
      "metadata": {
        "id": "shIGn12M4dec"
      },
      "outputs": [],
      "source": [
        "class Cafes(Ci):\n",
        "  def __init__(self, nombre):\n",
        "    super().__init__(nombre)\n",
        "    self.iva=0\n",
        "    if self.nombre=='5':\n",
        "      self.nombre='Café'\n",
        "    elif self.nombre==\"6\":\n",
        "      self.nombre=\"Cappuccino\"\n",
        "    elif self.nombre==\"7\":\n",
        "      self.nombre=\"Late\"\n",
        "    elif self.nombre==\"8\":\n",
        "      self.nombre=\"Mocca\"\n",
        "    elif self.nombre==\"9\":\n",
        "      self.nombre=\"Perico\"\n",
        "    if self.nombre=='Café':\n",
        "      self.precio=3000\n",
        "    elif self.nombre==\"Cappuccino\":\n",
        "      self.precio=4000\n",
        "    elif self.nombre==\"Late\":\n",
        "      self.precio=4200\n",
        "    elif self.nombre==\"Mocca\":\n",
        "      self.precio=3800\n",
        "    elif self.nombre==\"Perico\":\n",
        "      self.precio=3500\n",
        "  def tamano(self):\n",
        "    print('Según el tamaño que escojas el precio varia')\n",
        "    self.tamano=input(\"Selecciona una de las opciones establecidas:\\n1.Pequeño\\n2.Mediano\\n3.Grande\\n\")\n",
        "    if self.tamano==\"1\":\n",
        "      self.precio=self.precio*0.75\n",
        "      self.tamano=\"Pequeño\"\n",
        "    elif self.tamano==\"2\":\n",
        "      self.tamano=\"Medio\"\n",
        "    elif self.tamano==\"3\":\n",
        "      self.precio=(self.precio*1.25)\n",
        "      self.tamano=\"Grande\"\n",
        "    return self.tamano and self.precio\n",
        "  def dulce(self):\n",
        "    print(\"Escribe el número que acompaña a la opción que deseas\")\n",
        "    self.dulce=input(\"Selecciona una de las opciones de dulzura:\\n1.Sin azúcar\\n2.Poca azúcar\\n3.Medio dulce\\n4.Dulce\\n5.Muy dulce\\n\")\n",
        "    if self.dulce=='1':\n",
        "      self.dulce=\"Sin azúcar\"\n",
        "    elif self.dulce=='2':\n",
        "      self.dulce=\"Poca azúcar\"\n",
        "    elif self.dulce=='3':\n",
        "      self.dulce=\"Medio dulce\"\n",
        "    elif self.dulce=='4':\n",
        "      self.dulce=\"Dulce\"\n",
        "    elif self.dulce=='5':\n",
        "      self.dulce=\"Muy dulce\"\n",
        "    return self.dulce\n",
        "  def temperatura(self):\n",
        "    print(\"Escribe el número que acompaña a la opción que deseas\")\n",
        "    self.temperatura=input(\"Selecciona una de las opciones de temperatura:\\n1.Frío\\n2.Tibio\\n3.Caliente\\n\")\n",
        "    if self.temperatura=='1':\n",
        "      self.temperatura=\"Frío\"\n",
        "    elif self.temperatura=='2':\n",
        "      self.temperatura=\"Tibio\"\n",
        "    elif self.temperatura=='3':\n",
        "      self.temperatura=\"Caliente\"\n",
        "    return self.temperatura\n",
        "  def factura(self):\n",
        "    productos.append(self.nombre)\n",
        "    b=int(input('Ingrese la cantidad solicitada de este producto'))\n",
        "    cantidad.append(b)\n",
        "    precios.append(self.precio)\n",
        "    ivas.append(self.iva*b)\n",
        "    pagar.append(self.precio*b)"
      ]
    },
    {
      "cell_type": "code",
      "source": [
        "import pandas as pd\n",
        "Menu={\"Producto\":[\"Pan\",\"Croissant\",\"Churro\",\"Pastelito\",\"Palito de queso\",\"Café\",\"Cappuccino\",\"Late\",\"Mocca\", \"Perico\"], \"Precio\":[800,3800,2500,4000,3000,3000,4000,4200,3800,3500], \"Precio Pequeño\":[\"\", \"\", \"\", \"\", \"\", (3000*0.75),(4000*0.75),(4200*0.75),(3800*0.75),(3500*0.75)], \"Precio Grande\":[\"\", \"\", \"\", \"\", \"\",(3000*1.25),(4000*1.25),(4200*1.25),(3800*1.25),(3500*1.25)]}\n",
        "print(pd.DataFrame.from_dict(Menu))"
      ],
      "metadata": {
        "colab": {
          "base_uri": "https://localhost:8080/"
        },
        "id": "GGK9VFrlEEnK",
        "outputId": "63962439-6492-417a-9b53-74a57ac02795"
      },
      "execution_count": 99,
      "outputs": [
        {
          "output_type": "stream",
          "name": "stdout",
          "text": [
            "          Producto  Precio Precio Pequeño Precio Grande\n",
            "0              Pan     800                             \n",
            "1        Croissant    3800                             \n",
            "2           Churro    2500                             \n",
            "3        Pastelito    4000                             \n",
            "4  Palito de queso    3000                             \n",
            "5             Café    3000         2250.0        3750.0\n",
            "6       Cappuccino    4000         3000.0        5000.0\n",
            "7             Late    4200         3150.0        5250.0\n",
            "8            Mocca    3800         2850.0        4750.0\n",
            "9           Perico    3500         2625.0        4375.0\n"
          ]
        }
      ]
    },
    {
      "cell_type": "code",
      "source": [
        "productos=[\"Pan\",\"Croissant\",\"Churro\",\"Pastelito\",\"Palito de queso\",\"Café\",\"Cappuccino\",\"Late\",\"Mocca\", \"Perico\"]\n",
        "precios=[800,3800,2500,4000,3000,3000,4000,4200,3800,3500]\n",
        "PrecioPequeño=[800,3800,2500,4000,3000,(3000*0.75),(4000*0.75),(4200*0.75),(3800*0.75),(3500*0.75)]\n",
        "PrecioGrande=[800,3800,2500,4000,3000,(3000*1.25),(4000*1.25),(4200*1.25),(3800*1.25),(3500*1.25)]"
      ],
      "metadata": {
        "id": "LLGPbCErZCp8"
      },
      "execution_count": null,
      "outputs": []
    },
    {
      "cell_type": "code",
      "source": [
        "cafe1=Cafes('5')\n",
        "cafe1.tamano()\n",
        "cafe1.IVA()\n",
        "cafe1.dulce()\n",
        "cafe1.temperatura()\n",
        "cafe1.factura()\n",
        "cafe1.__dict__"
      ],
      "metadata": {
        "colab": {
          "base_uri": "https://localhost:8080/"
        },
        "id": "RFRCU5CC5k49",
        "outputId": "4efa2420-fe7c-4d77-f173-daa4a191c62c"
      },
      "execution_count": 100,
      "outputs": [
        {
          "name": "stdout",
          "output_type": "stream",
          "text": [
            "Según el tamaño que escojas el precio varia\n",
            "Selecciona una de las opciones establecidas:\n",
            "1.Pequeño\n",
            "2.Mediano\n",
            "3.Grande\n",
            "3\n",
            "Escribe el número que acompaña a la opción que deseas\n",
            "Selecciona una de las opciones de dulzura:\n",
            "1.Sin azúcar\n",
            "2.Poca azúcar\n",
            "3.Medio dulce\n",
            "4.Dulce\n",
            "5.Muy dulce\n",
            "2\n",
            "Escribe el número que acompaña a la opción que deseas\n",
            "Selecciona una de las opciones de temperatura:\n",
            "1.Frío\n",
            "2.Tibio\n",
            "3.Caliente\n",
            "3\n",
            "Ingrese la cantidad solicitada de este producto2\n"
          ]
        },
        {
          "output_type": "execute_result",
          "data": {
            "text/plain": [
              "{'nombre': 'Café',\n",
              " 'iva': 712.5,\n",
              " 'precio': 3750.0,\n",
              " 'tamano': 'Grande',\n",
              " 'dulce': 'Poca azúcar',\n",
              " 'temperatura': 'Caliente'}"
            ]
          },
          "metadata": {},
          "execution_count": 100
        }
      ]
    },
    {
      "cell_type": "code",
      "source": [
        "cafe2=Cafes(\"9\")\n",
        "cafe2.tamano()\n",
        "cafe2.IVA()\n",
        "cafe2.dulce()\n",
        "cafe2.temperatura()\n",
        "cafe2.factura()\n",
        "cafe2.__dict__"
      ],
      "metadata": {
        "colab": {
          "base_uri": "https://localhost:8080/"
        },
        "id": "ATrEZyZ29Vzk",
        "outputId": "40373ffb-23e2-4674-b3f1-2d306264a9dd"
      },
      "execution_count": 101,
      "outputs": [
        {
          "name": "stdout",
          "output_type": "stream",
          "text": [
            "Según el tamaño que escojas el precio varia\n",
            "Selecciona una de las opciones establecidas:\n",
            "1.Pequeño\n",
            "2.Mediano\n",
            "3.Grande\n",
            "2\n",
            "Escribe el número que acompaña a la opción que deseas\n",
            "Selecciona una de las opciones de dulzura:\n",
            "1.Sin azúcar\n",
            "2.Poca azúcar\n",
            "3.Medio dulce\n",
            "4.Dulce\n",
            "5.Muy dulce\n",
            "5\n",
            "Escribe el número que acompaña a la opción que deseas\n",
            "Selecciona una de las opciones de temperatura:\n",
            "1.Frío\n",
            "2.Tibio\n",
            "3.Caliente\n",
            "1\n",
            "Ingrese la cantidad solicitada de este producto1\n"
          ]
        },
        {
          "output_type": "execute_result",
          "data": {
            "text/plain": [
              "{'nombre': 'Perico',\n",
              " 'iva': 665.0,\n",
              " 'precio': 3500,\n",
              " 'tamano': 'Medio',\n",
              " 'dulce': 'Muy dulce',\n",
              " 'temperatura': 'Frío'}"
            ]
          },
          "metadata": {},
          "execution_count": 101
        }
      ]
    },
    {
      "cell_type": "code",
      "source": [
        "pan1=Panes('0')\n",
        "pan1.IVA()\n",
        "pan1.factura()\n",
        "pan1.__dict__"
      ],
      "metadata": {
        "colab": {
          "base_uri": "https://localhost:8080/"
        },
        "id": "iDZDmrEF9vyz",
        "outputId": "bfc48667-fc23-4402-d307-588bcf96e4f1"
      },
      "execution_count": 102,
      "outputs": [
        {
          "name": "stdout",
          "output_type": "stream",
          "text": [
            "Ingrese la cantidad solicitada de este producto4\n"
          ]
        },
        {
          "output_type": "execute_result",
          "data": {
            "text/plain": [
              "{'nombre': 'Pan', 'iva': 152.0, 'precio': 800}"
            ]
          },
          "metadata": {},
          "execution_count": 102
        }
      ]
    },
    {
      "cell_type": "code",
      "source": [
        "pan2=Panes('1')\n",
        "pan2.IVA()\n",
        "pan2.factura()\n",
        "pan2.__dict__"
      ],
      "metadata": {
        "colab": {
          "base_uri": "https://localhost:8080/"
        },
        "id": "PojTFG4Y96cD",
        "outputId": "4aa45d12-c209-4912-f380-e26026d28ba3"
      },
      "execution_count": 103,
      "outputs": [
        {
          "name": "stdout",
          "output_type": "stream",
          "text": [
            "Ingrese la cantidad solicitada de este producto1\n"
          ]
        },
        {
          "output_type": "execute_result",
          "data": {
            "text/plain": [
              "{'nombre': 'Croissant', 'iva': 722.0, 'precio': 3800}"
            ]
          },
          "metadata": {},
          "execution_count": 103
        }
      ]
    },
    {
      "cell_type": "code",
      "source": [
        "factura['Productos']=productos\n",
        "factura['Cantidad']=cantidad\n",
        "factura['precios']=precios\n",
        "factura['IVA']=ivas\n",
        "factura['Pagar']=pagar\n",
        "total=[]\n",
        "x=len(productos)\n",
        "for i in range(x):\n",
        "  total.append(\"\")\n",
        "total[-1]=sum(pagar)\n",
        "factura['total']=total\n",
        "print(pd.DataFrame.from_dict(factura))"
      ],
      "metadata": {
        "colab": {
          "base_uri": "https://localhost:8080/"
        },
        "id": "knHuXyy60w9S",
        "outputId": "4f0b9205-aea3-451e-d944-9c019dacf4f4"
      },
      "execution_count": 104,
      "outputs": [
        {
          "output_type": "stream",
          "name": "stdout",
          "text": [
            "   Productos  Cantidad  precios     IVA   Pagar    total\n",
            "0       Café         2   3750.0  1425.0  7500.0         \n",
            "1     Perico         1   3500.0   665.0  3500.0         \n",
            "2        Pan         4    800.0   608.0  3200.0         \n",
            "3  Croissant         1   3800.0   722.0  3800.0  18000.0\n"
          ]
        }
      ]
    }
  ]
}