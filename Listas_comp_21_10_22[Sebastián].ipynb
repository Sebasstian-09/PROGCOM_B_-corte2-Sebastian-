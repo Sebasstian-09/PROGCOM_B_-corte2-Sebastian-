{
  "nbformat": 4,
  "nbformat_minor": 0,
  "metadata": {
    "colab": {
      "provenance": []
    },
    "kernelspec": {
      "name": "python3",
      "display_name": "Python 3"
    },
    "language_info": {
      "name": "python"
    }
  },
  "cells": [
    {
      "cell_type": "markdown",
      "source": [
        "#Samuel\n",
        "###La lista por comprensión es una construcción  sintáctica disponible en python con la que se pueden crear una lista a partir de otros elementos iterables. Siendo una de las contracciones más elegantes del lenguaje. A continuación, se mostrará la sintaxis  básica para trabajar con las listas por comprensión."
      ],
      "metadata": {
        "id": "FkgSRGcvn_W4"
      }
    },
    {
      "cell_type": "code",
      "source": [
        "#Los tipos de datos mutables son todos aquellos a los que es posible cambiar, modificar o actualizar\n",
        "#Los objetos mutables más comunes son las listas, diccionarios y conjuntos que sirven para guardar valores\n",
        "\n",
        "#SINTAXIS DE LISTAS POR COMPRENSIÓN\n",
        "\n",
        "nueva_lista = [expresion bucle_for condiciones]\n",
        "\n",
        "#Entre corchetes se escribe una expresión seguida de un bucle for sobre el que itera, para crear la lista"
      ],
      "metadata": {
        "id": "c9pXqBBYo-lo"
      },
      "execution_count": null,
      "outputs": []
    },
    {
      "cell_type": "code",
      "source": [
        "numbers = [1, 2, 3, 4]\n",
        "results = []\n",
        "for n in numbers:\n",
        "  results.append(n+1)\n",
        "results"
      ],
      "metadata": {
        "colab": {
          "base_uri": "https://localhost:8080/"
        },
        "id": "BXhWfDsal6p3",
        "outputId": "ac950804-37e3-433e-f310-511fd3d978fc"
      },
      "execution_count": null,
      "outputs": [
        {
          "output_type": "execute_result",
          "data": {
            "text/plain": [
              "[2, 3, 4, 5]"
            ]
          },
          "metadata": {},
          "execution_count": 2
        }
      ]
    },
    {
      "cell_type": "code",
      "execution_count": null,
      "metadata": {
        "colab": {
          "base_uri": "https://localhost:8080/"
        },
        "id": "-tKJPp8zlXr-",
        "outputId": "40299857-1db4-49af-dc67-ab35de36d2fb"
      },
      "outputs": [
        {
          "output_type": "execute_result",
          "data": {
            "text/plain": [
              "[2, 3, 4, 5]"
            ]
          },
          "metadata": {},
          "execution_count": 3
        }
      ],
      "source": [
        "results = [n + 1 for n in numbers if n < 5]\n",
        "results"
      ]
    },
    {
      "cell_type": "code",
      "source": [
        "results2 = lambda numbers : results\n",
        "print(results2(numbers))"
      ],
      "metadata": {
        "colab": {
          "base_uri": "https://localhost:8080/"
        },
        "id": "tp8Tvgh8mAil",
        "outputId": "fcdc3c54-5517-423c-8406-188588166a79"
      },
      "execution_count": null,
      "outputs": [
        {
          "output_type": "stream",
          "name": "stdout",
          "text": [
            "[2, 3, 4, 5]\n"
          ]
        }
      ]
    },
    {
      "cell_type": "markdown",
      "source": [
        "#Jesus"
      ],
      "metadata": {
        "id": "lV19evXCrM1b"
      }
    },
    {
      "cell_type": "code",
      "source": [
        "\n",
        "n=int(input(\"Hasta que número quieres imprimir los pares e impares: \"))\n",
        "pares=[número for número in range(0,n+1) if número%2==0]\n",
        "print(pares)\n",
        "impares=[número for número in range(0,n+1) if número%2!=0]\n",
        "print(impares)"
      ],
      "metadata": {
        "colab": {
          "base_uri": "https://localhost:8080/"
        },
        "id": "rWmVu4BDni-6",
        "outputId": "41ad8486-c9f0-4555-f11e-8897ee08b40b"
      },
      "execution_count": null,
      "outputs": [
        {
          "output_type": "stream",
          "name": "stdout",
          "text": [
            "Hasta que número quieres imprimir los pares e impares: 10\n",
            "[0, 2, 4, 6, 8, 10]\n",
            "[1, 3, 5, 7, 9]\n"
          ]
        }
      ]
    },
    {
      "cell_type": "code",
      "source": [
        "num=int(input(\"Hasta que número quieres imprimir los pares e impares: \"))\n",
        "def hola(n): \n",
        " pares=[número for número in range(0,n+1) if número%2==0]\n",
        " print(pares)\n",
        " impares=[número for número in range(0,n+1) if número%2!=0]\n",
        " print(impares)\n",
        "hola(num)"
      ],
      "metadata": {
        "colab": {
          "base_uri": "https://localhost:8080/"
        },
        "id": "NyJ8Z0T9rApH",
        "outputId": "8f5e3b06-2fc4-49c0-f187-5642194cfbd4"
      },
      "execution_count": null,
      "outputs": [
        {
          "output_type": "stream",
          "name": "stdout",
          "text": [
            "Hasta que número quieres imprimir los pares e impares: 10\n",
            "[0, 2, 4, 6, 8, 10]\n",
            "[1, 3, 5, 7, 9]\n"
          ]
        }
      ]
    },
    {
      "cell_type": "code",
      "source": [
        "num=int(input(\"Hasta que número quieres imprimir los pares e impares: \"))\n",
        "mi_lista=[n for n in range(0,num+1)]\n",
        "pares=list(filter(lambda num: num%2==0,mi_lista))\n",
        "print(pares)\n",
        "impares=list(filter(lambda num: num%2!=0,mi_lista))\n",
        "print(impares)"
      ],
      "metadata": {
        "colab": {
          "base_uri": "https://localhost:8080/"
        },
        "id": "EjovtQemrDuD",
        "outputId": "1da5e079-167f-4a51-f256-5cb9a6a4ab0f"
      },
      "execution_count": null,
      "outputs": [
        {
          "output_type": "stream",
          "name": "stdout",
          "text": [
            "Hasta que número quieres imprimir los pares e impares: 10\n",
            "[0, 2, 4, 6, 8, 10]\n",
            "[1, 3, 5, 7, 9]\n"
          ]
        }
      ]
    },
    {
      "cell_type": "markdown",
      "source": [
        "#Jhon Orduz"
      ],
      "metadata": {
        "id": "WXx3SiS8raPD"
      }
    },
    {
      "cell_type": "code",
      "source": [
        "#Número perfecto\n",
        "\n",
        "def perfecto(numero):\n",
        "  perf=0\n",
        "  for i in range (1,numero):\n",
        "    if numero%i==0:\n",
        "      perf+=i\n",
        "  if perf == numero:\n",
        "    print(\"es un número perfecto\")\n",
        "    return True  \n",
        "  else:\n",
        "    print(\"No es número perfecto\")\n",
        "    "
      ],
      "metadata": {
        "id": "SsaOqHI-rXXx"
      },
      "execution_count": null,
      "outputs": []
    },
    {
      "cell_type": "code",
      "source": [
        "lista=[n for n in range (1, 11)]\n",
        "perf1=[x for x in lista if perfecto(x)==True]\n"
      ],
      "metadata": {
        "colab": {
          "base_uri": "https://localhost:8080/"
        },
        "id": "dNJ_rCzRsOFa",
        "outputId": "6bd98d47-06ef-4063-db0e-f53c0911f46a"
      },
      "execution_count": null,
      "outputs": [
        {
          "output_type": "stream",
          "name": "stdout",
          "text": [
            "No es número perfecto\n",
            "No es número perfecto\n",
            "No es número perfecto\n",
            "No es número perfecto\n",
            "No es número perfecto\n",
            "es un número perfecto\n",
            "No es número perfecto\n",
            "No es número perfecto\n",
            "No es número perfecto\n",
            "No es número perfecto\n"
          ]
        }
      ]
    },
    {
      "cell_type": "code",
      "source": [
        "perf2=list(map(lambda x: perfecto(x)==True, lista))"
      ],
      "metadata": {
        "colab": {
          "base_uri": "https://localhost:8080/"
        },
        "id": "blkBF85Csg0x",
        "outputId": "805966df-616e-424e-aa28-78ed91737b5d"
      },
      "execution_count": null,
      "outputs": [
        {
          "output_type": "stream",
          "name": "stdout",
          "text": [
            "No es número perfecto\n",
            "No es número perfecto\n",
            "No es número perfecto\n",
            "No es número perfecto\n",
            "No es número perfecto\n",
            "es un número perfecto\n",
            "No es número perfecto\n",
            "No es número perfecto\n",
            "No es número perfecto\n",
            "No es número perfecto\n"
          ]
        }
      ]
    },
    {
      "cell_type": "markdown",
      "source": [
        "#Juan David Ramirez"
      ],
      "metadata": {
        "id": "DnuTagCwhpjR"
      }
    },
    {
      "cell_type": "code",
      "source": [
        "#Método clásico\n",
        "import random\n",
        "n1=[random.randint(0,2000) for x in range(100)]\n",
        "n2=[random.randint(0,2000) for x in range(100)]\n",
        "comun=[]\n",
        "for a in n1:\n",
        "  for b in n2:\n",
        "    if a == b:\n",
        "      comun.append(a)\n",
        "print(comun)"
      ],
      "metadata": {
        "colab": {
          "base_uri": "https://localhost:8080/"
        },
        "id": "d4Xg3xw7oIys",
        "outputId": "f97a0909-bea5-46bc-cd20-e532ba499932"
      },
      "execution_count": null,
      "outputs": [
        {
          "output_type": "stream",
          "name": "stdout",
          "text": [
            "[1335, 244, 1641, 591, 1281, 695, 229]\n"
          ]
        }
      ]
    },
    {
      "cell_type": "code",
      "source": [
        "#Método por comprensión\n",
        "import random\n",
        "n1=[random.randint(0,2000) for x in range(100)]\n",
        "n2=[random.randint(0,2000) for x in range(100)]\n",
        "comun=[x for x in n1 for y in n2 if x==y]\n",
        "print(comun)"
      ],
      "metadata": {
        "colab": {
          "base_uri": "https://localhost:8080/"
        },
        "id": "0R9bFnRqmaf-",
        "outputId": "28af86bc-5dea-46b8-9637-b24e6942235e"
      },
      "execution_count": null,
      "outputs": [
        {
          "output_type": "stream",
          "name": "stdout",
          "text": [
            "[1738, 1659, 518, 287]\n"
          ]
        }
      ]
    },
    {
      "cell_type": "code",
      "source": [
        "#Método lambda\n",
        "import random\n",
        "n1=[random.randint(0,2000) for x in range(100)]\n",
        "n2=[random.randint(0,2000) for x in range(100)]\n",
        "comun=[]\n",
        "comun=list(filter(lambda num:num in n1, n2))\n",
        "print(comun)"
      ],
      "metadata": {
        "colab": {
          "base_uri": "https://localhost:8080/"
        },
        "id": "vPUFDotvr9Hc",
        "outputId": "031a1ae3-67a1-4f1a-9639-d703f5b70f70"
      },
      "execution_count": null,
      "outputs": [
        {
          "output_type": "stream",
          "name": "stdout",
          "text": [
            "[1798, 1455, 1992, 58, 1210, 756]\n"
          ]
        }
      ]
    },
    {
      "cell_type": "markdown",
      "source": [
        "#Daniel Alarcon"
      ],
      "metadata": {
        "id": "dYN2yyPPsg6y"
      }
    },
    {
      "cell_type": "code",
      "source": [
        "#lambda\n",
        "func=lambda x: x**2\n",
        "func(3)"
      ],
      "metadata": {
        "colab": {
          "base_uri": "https://localhost:8080/"
        },
        "id": "rYAvYV6eslBS",
        "outputId": "bb7b801e-63f2-4815-a647-4ca471a25123"
      },
      "execution_count": null,
      "outputs": [
        {
          "output_type": "execute_result",
          "data": {
            "text/plain": [
              "9"
            ]
          },
          "metadata": {},
          "execution_count": 8
        }
      ]
    },
    {
      "cell_type": "code",
      "source": [
        "#tradicional\n",
        "def cuadrado(x):\n",
        "  return x**2\n",
        "print(cuadrado(5))"
      ],
      "metadata": {
        "colab": {
          "base_uri": "https://localhost:8080/"
        },
        "id": "yZL448mos1bi",
        "outputId": "b828134e-c158-4af6-aa09-61597fa23e13"
      },
      "execution_count": null,
      "outputs": [
        {
          "output_type": "stream",
          "name": "stdout",
          "text": [
            "25\n"
          ]
        }
      ]
    },
    {
      "cell_type": "code",
      "source": [
        "#comprensión\n",
        "l=[1,2,3,4]\n",
        "l2=[n**2 for n in l]\n",
        "print(l2)"
      ],
      "metadata": {
        "colab": {
          "base_uri": "https://localhost:8080/"
        },
        "id": "G0W8_w_dtC3h",
        "outputId": "ba2ca62b-e8c5-4592-deb6-112461a6e49d"
      },
      "execution_count": null,
      "outputs": [
        {
          "output_type": "stream",
          "name": "stdout",
          "text": [
            "[1, 4, 9, 16]\n"
          ]
        }
      ]
    },
    {
      "cell_type": "markdown",
      "source": [
        "#Angie"
      ],
      "metadata": {
        "id": "dhq74iG2tRsW"
      }
    },
    {
      "cell_type": "code",
      "source": [
        "nom1=[\"Samuelle\", \"Angie\", \"Valentina\", \"Alejandro\", \"Jonsito\"]\n",
        "nom2=[\"Samuelle\", \"Andrea\", \"Sandra\", \"Anderson\", \"Jonsito\"]\n"
      ],
      "metadata": {
        "id": "m8g3jqLGtQjv"
      },
      "execution_count": null,
      "outputs": []
    },
    {
      "cell_type": "code",
      "source": [
        "#por comprensión\n",
        "common=[a for a in nom1 for b in nom2 if a==b]\n",
        "common"
      ],
      "metadata": {
        "colab": {
          "base_uri": "https://localhost:8080/"
        },
        "id": "r15o-hsrvWRw",
        "outputId": "61f6c840-83a4-4e3b-a37d-69872326e3e1"
      },
      "execution_count": null,
      "outputs": [
        {
          "output_type": "execute_result",
          "data": {
            "text/plain": [
              "['Samuelle', 'Jonsito']"
            ]
          },
          "metadata": {},
          "execution_count": 12
        }
      ]
    },
    {
      "cell_type": "code",
      "source": [
        "#por lambda\n",
        "common1=lambda nom1, nom2: common\n",
        "print(common1(nom1,nom2))"
      ],
      "metadata": {
        "colab": {
          "base_uri": "https://localhost:8080/"
        },
        "id": "6nxOI_fev3KH",
        "outputId": "87422f07-eae6-4c03-a8eb-3b161c216b8c"
      },
      "execution_count": null,
      "outputs": [
        {
          "output_type": "stream",
          "name": "stdout",
          "text": [
            "['Samuelle', 'Jonsito']\n"
          ]
        }
      ]
    },
    {
      "cell_type": "code",
      "source": [
        "#por def\n",
        "def common(nom1,nom2):\n",
        "  return nom1, nom2\n",
        "  "
      ],
      "metadata": {
        "id": "GGj__OOEvkKA"
      },
      "execution_count": null,
      "outputs": []
    },
    {
      "cell_type": "code",
      "source": [
        "nom1, nom2"
      ],
      "metadata": {
        "colab": {
          "base_uri": "https://localhost:8080/"
        },
        "id": "4N5wuqMZvtp_",
        "outputId": "0edbe4ba-1e8e-42ed-f020-4a446db690b8"
      },
      "execution_count": null,
      "outputs": [
        {
          "output_type": "execute_result",
          "data": {
            "text/plain": [
              "(['Samuelle', 'Angie', 'Valentina', 'Alejandro', 'Jonsito'],\n",
              " ['Samuelle', 'Andrea', 'Sandra', 'Anderson', 'Jonsito'])"
            ]
          },
          "metadata": {},
          "execution_count": 13
        }
      ]
    },
    {
      "cell_type": "markdown",
      "source": [
        "#Valentina"
      ],
      "metadata": {
        "id": "MlA4CFG6wJIn"
      }
    },
    {
      "cell_type": "code",
      "source": [
        "#tradicional\n",
        "def listaIMC(usuarios):\n",
        "  sis=[]\n",
        "  imc=[]\n",
        "  b=0\n",
        "  a2=0\n",
        "  for n in range(usuarios):\n",
        "    w=input(\"¿Cuál es tu nombre?: \")\n",
        "    b=int(input(\"Ingresa el peso: \"))\n",
        "    a2=int(input(\"Ingresa la altura: \"))\n",
        "    sis.append((w,b/a2**2))\n",
        "    imc.append(b/a2**2)\n",
        "    return sis, imc\n",
        "  \n",
        "user=int(input(\"¿Cuántos usuarios hay?: \")) \n",
        "sis,imc=listaIMC(user)"
      ],
      "metadata": {
        "colab": {
          "base_uri": "https://localhost:8080/"
        },
        "id": "SzPy9e0WwLGi",
        "outputId": "52e8a0bf-8fc9-4cf9-9688-6df1968516d1"
      },
      "execution_count": null,
      "outputs": [
        {
          "name": "stdout",
          "output_type": "stream",
          "text": [
            "¿Cuántos usuarios hay?: 1\n",
            "¿Cuál es tu nombre?: as\n",
            "Ingresa el peso: 40\n",
            "Ingresa la altura: 140\n"
          ]
        }
      ]
    },
    {
      "cell_type": "code",
      "source": [
        "imc"
      ],
      "metadata": {
        "colab": {
          "base_uri": "https://localhost:8080/"
        },
        "id": "6kTrdBF5xuDe",
        "outputId": "6a53426c-e7e7-41ac-f9e2-adacd162171d"
      },
      "execution_count": null,
      "outputs": [
        {
          "output_type": "execute_result",
          "data": {
            "text/plain": [
              "[0.0020408163265306124]"
            ]
          },
          "metadata": {},
          "execution_count": 19
        }
      ]
    },
    {
      "cell_type": "code",
      "source": [
        "#comprensión\n",
        "sis=listaIMC(user)\n",
        "sis2=[n for n in imc if n>=18.5]\n",
        "print(sis2)"
      ],
      "metadata": {
        "colab": {
          "base_uri": "https://localhost:8080/"
        },
        "id": "jcpBGvgUyJWm",
        "outputId": "73ec9626-c389-4f75-8681-5339ad796b30"
      },
      "execution_count": null,
      "outputs": [
        {
          "output_type": "stream",
          "name": "stdout",
          "text": [
            "¿Cuál es tu nombre?: ad\n",
            "Ingresa el peso: 62\n",
            "Ingresa la altura: 176\n",
            "[]\n"
          ]
        }
      ]
    },
    {
      "cell_type": "code",
      "source": [
        "sis"
      ],
      "metadata": {
        "colab": {
          "base_uri": "https://localhost:8080/"
        },
        "id": "5ULJkrmqyqf4",
        "outputId": "3ff34d19-d7f2-44f4-996d-fea399e157d2"
      },
      "execution_count": null,
      "outputs": [
        {
          "output_type": "execute_result",
          "data": {
            "text/plain": [
              "([('ad', 0.0020015495867768593)], [0.0020015495867768593])"
            ]
          },
          "metadata": {},
          "execution_count": 21
        }
      ]
    },
    {
      "cell_type": "code",
      "source": [
        "#lambda\n",
        "sis3=list(map(lambda x: \"peso insuficiente\" if x<18.5 else \"peso normal\" if (x>=18.5 and x<24.9) else \"sobrepeso\" if (x>=24.9 and x<30) else \"obecidad\", imc))"
      ],
      "metadata": {
        "id": "ZOjTPXkDytl1"
      },
      "execution_count": null,
      "outputs": []
    },
    {
      "cell_type": "markdown",
      "source": [
        "#Luis Miguel"
      ],
      "metadata": {
        "id": "volD1NG9zfNe"
      }
    },
    {
      "cell_type": "code",
      "source": [
        "#normal\n",
        "print(\"Ingrese su código \")\n",
        "caracter=input()\n",
        "if len(caracter)==8:\n",
        "  if caracter[0]==\"u\":\n",
        "    print(\"Eres estudiante UNAB\")\n",
        "  elif(caracter.startswith(\"a000\")):\n",
        "    print(\"Eres estudiante de los andes\")\n",
        "  else:\n",
        "    if (int(caracter)>=1950):\n",
        "      print(\"Eres estudiante UIS\")\n",
        "\n",
        "else:\n",
        "  print(\"Su código no corresponde a ninguna universidad\")"
      ],
      "metadata": {
        "colab": {
          "base_uri": "https://localhost:8080/"
        },
        "id": "kNGWb9NJzhY2",
        "outputId": "1f2347a9-2e06-4bd5-82dd-45c2ae385f6e"
      },
      "execution_count": null,
      "outputs": [
        {
          "output_type": "stream",
          "name": "stdout",
          "text": [
            "Ingrese su código \n",
            "00153684\n",
            "Eres estudiante UIS\n"
          ]
        }
      ]
    },
    {
      "cell_type": "code",
      "source": [
        "universidades=[\"unab\",\"uis\", \"andes\"]\n",
        "codigo=[\"U0123456\",\"198562\",\"a0005645\"]\n",
        "u=[cod for cod in codigo if(cod[0]==\"u\" and len(cod)==8)]\n",
        "print(u)"
      ],
      "metadata": {
        "id": "Mn7gMTwV33nP"
      },
      "execution_count": null,
      "outputs": []
    },
    {
      "cell_type": "code",
      "source": [
        "y=list(map(lambda x:\"unab\" if (x[0]==\"U\" or x[0]==\"u\") else None, codigo))\n",
        "y"
      ],
      "metadata": {
        "id": "jGI0NLcK33vO"
      },
      "execution_count": null,
      "outputs": []
    },
    {
      "cell_type": "markdown",
      "source": [
        "#Cristian Caballero"
      ],
      "metadata": {
        "id": "CNcxOQyo1K4J"
      }
    },
    {
      "cell_type": "code",
      "source": [],
      "metadata": {
        "id": "tzMj7RVp1KpJ"
      },
      "execution_count": null,
      "outputs": []
    },
    {
      "cell_type": "markdown",
      "source": [
        "#Santiago Carvajal\n",
        "##¿Cómo usar la comprensión de diccionarios para crear un diccionario de Python a partir de una iteración?\n",
        "Podemos crear un diccionario en Python usando solamente un iterable si elegimos generar ya sea las claves  o los valores en marcha.\n",
        "\n",
        "**Ejemplo 1**\n",
        "\n",
        "supongamos que tenemos una lista de clientes que visitan nuestra tienda, y nos gustaría ofrecer un descuento aleatorio a cada cliente. Nos gustaría además, que eel valor de descuento se encuentra entre 1 *y* 100.\n",
        "En Python , random.randint(i,j) retorna un valor entre i *y* j incluyendo ambos extremos. Por lo tanto, podemos utilizarla función randint() para generar un descuento entre 1 *y* 100 para cada cliente en la lista.\n",
        "\n",
        "El siguiente código nos mostrará cómo podemos crear un diccionario de descuentos a partir de la lista de clientes.  "
      ],
      "metadata": {
        "id": "nr2Mc4pKHxDn"
      }
    },
    {
      "cell_type": "code",
      "source": [
        "#Comprensión\n",
        "import random\n",
        "clientes=[\"Alex\",\"Bob\",\"Carol\",\"Dave\",\"Flow\",\"Katie\",\"Nate\"]\n",
        "dicc_desc={cliente:random.randint(1,100) for cliente in clientes}\n",
        "print(dic_desc)"
      ],
      "metadata": {
        "id": "vOksS5J6H5aG"
      },
      "execution_count": null,
      "outputs": []
    },
    {
      "cell_type": "code",
      "source": [
        "#Lambda\n",
        "import random\n",
        "clientes=[\"Alex\",\"Bob\",\"Carol\",\"Dave\",\"Flow\",\"Katie\",\"Nate\"]\n",
        "dic_desc = (dict(map(lambda diccionario_descuentos:(diccionario_descuentos,random.randint(1,100)),clientes)))\n",
        "print(dic_desc)"
      ],
      "metadata": {
        "id": "PGQsQDEXKrTW"
      },
      "execution_count": null,
      "outputs": []
    },
    {
      "cell_type": "markdown",
      "source": [
        "#Juan David Vargas\n"
      ],
      "metadata": {
        "id": "wMRrDIT5KfFn"
      }
    },
    {
      "cell_type": "code",
      "source": [
        "Prod=[\"milk\",\"bread\",\"butter\",\"apple\",\"watermelon\",\"banana\",\"candy\",\"water\",\"ice cream\"]\n",
        "precio=[3,4,10,2,5,4.5,3.2,9,5,6.5]\n",
        "precio_prod ={Prod:precio for (Prod,precio) in zip(Prod,precio)}\n",
        "print(precio_prod)"
      ],
      "metadata": {
        "id": "J3svV3UsKjf2",
        "colab": {
          "base_uri": "https://localhost:8080/"
        },
        "outputId": "92ede5b0-cef3-44c1-dc7a-3b0e424127a7"
      },
      "execution_count": 7,
      "outputs": [
        {
          "output_type": "stream",
          "name": "stdout",
          "text": [
            "{'milk': 3, 'bread': 4, 'butter': 10, 'apple': 2, 'watermelon': 5, 'banana': 4.5, 'candy': 3.2, 'water': 9, 'ice cream': 5}\n"
          ]
        }
      ]
    },
    {
      "cell_type": "code",
      "source": [
        "desc={Prod: precio for (Prod,precio) in precio_prod.items() if precio<5}\n",
        "print(desc)"
      ],
      "metadata": {
        "id": "fEuo3rDDK-qm",
        "colab": {
          "base_uri": "https://localhost:8080/"
        },
        "outputId": "9843182e-3a05-4218-d85a-e03f69202b9f"
      },
      "execution_count": 9,
      "outputs": [
        {
          "output_type": "stream",
          "name": "stdout",
          "text": [
            "{'milk': 3, 'bread': 4, 'apple': 2, 'banana': 4.5, 'candy': 3.2}\n"
          ]
        }
      ]
    },
    {
      "cell_type": "markdown",
      "source": [
        "#Jaime Rueda"
      ],
      "metadata": {
        "id": "DAHmx0leK-x-"
      }
    },
    {
      "cell_type": "code",
      "source": [
        "prod={'papas':1300, 'jugos':1800,'helados': 2300, 'helados': 2300, 'dulces':800, 'leche':4200}\n",
        "opr={x:y*1.19 for (x,y) in prod.items()}\n",
        "print(f\"El precio sin IVA de los productos es: {prod}\")\n",
        "print('✯✯'*60)\n",
        "print(f\"El precio con IVA de los productos es: {opr}\")"
      ],
      "metadata": {
        "id": "-2NE5M95LAvm",
        "colab": {
          "base_uri": "https://localhost:8080/"
        },
        "outputId": "8295daa6-d181-416b-e434-0cbae3df1bb2"
      },
      "execution_count": 3,
      "outputs": [
        {
          "output_type": "stream",
          "name": "stdout",
          "text": [
            "El precio sin IVA de los productos es: {'papas': 1300, 'jugos': 1800, 'helados': 2300, 'dulces': 800, 'leche': 4200}\n",
            "✯✯✯✯✯✯✯✯✯✯✯✯✯✯✯✯✯✯✯✯✯✯✯✯✯✯✯✯✯✯✯✯✯✯✯✯✯✯✯✯✯✯✯✯✯✯✯✯✯✯✯✯✯✯✯✯✯✯✯✯✯✯✯✯✯✯✯✯✯✯✯✯✯✯✯✯✯✯✯✯✯✯✯✯✯✯✯✯✯✯✯✯✯✯✯✯✯✯✯✯✯✯✯✯✯✯✯✯✯✯✯✯✯✯✯✯✯✯✯✯\n",
            "El precio con IVA de los productos es: {'papas': 1547.0, 'jugos': 2142.0, 'helados': 2737.0, 'dulces': 952.0, 'leche': 4998.0}\n"
          ]
        }
      ]
    },
    {
      "cell_type": "code",
      "source": [
        "#lambda\n",
        "tienda={'papas':1300, 'jugos':1800,'helados': 2300, 'helados': 2300, 'dulces':800, 'leche':4200}\n",
        "compra=['papas','jugos','helados', 'dulces','leche']\n",
        "IVA=dict(map(lambda prod:(prod,tienda[prod]) if prod in tienda else(prod,None),compra))\n",
        "IVA"
      ],
      "metadata": {
        "colab": {
          "base_uri": "https://localhost:8080/"
        },
        "id": "SAJ2sVQ3R375",
        "outputId": "028554f6-1504-483a-c759-a066dca3b9b8"
      },
      "execution_count": 5,
      "outputs": [
        {
          "output_type": "execute_result",
          "data": {
            "text/plain": [
              "{'papas': 1300, 'jugos': 1800, 'helados': 2300, 'dulces': 800, 'leche': 4200}"
            ]
          },
          "metadata": {},
          "execution_count": 5
        }
      ]
    },
    {
      "cell_type": "markdown",
      "source": [
        "#Leandro"
      ],
      "metadata": {
        "id": "qFzja4Z_MZGI"
      }
    },
    {
      "cell_type": "code",
      "source": [
        "def temp(x):\n",
        "  if x >=70:\n",
        "    return \"hot\"\n",
        "  elif 69>=x >= 40:\n",
        "    return \"Warn\" \n",
        "  else:\n",
        "    return \"cold\"\n",
        "\n",
        "ciudades={\"New York\":32, \"Boston\": 75,\"Los Angeles\":100, \"Chicago\":50}"
      ],
      "metadata": {
        "id": "8_kFXbNjUj7d"
      },
      "execution_count": 14,
      "outputs": []
    },
    {
      "cell_type": "code",
      "source": [
        "\n",
        "clima={key: temp(value) for (key,value) in ciudades.items()}\n",
        "print(clima)"
      ],
      "metadata": {
        "id": "uLwWTbEtMatI",
        "colab": {
          "base_uri": "https://localhost:8080/"
        },
        "outputId": "74e9bcc3-822a-40a6-8571-feb4bdc8de27"
      },
      "execution_count": 10,
      "outputs": [
        {
          "output_type": "stream",
          "name": "stdout",
          "text": [
            "{'New York': 'cold', 'Boston': 'hot', 'Los Angeles': 'hot', 'Chicago': 'Warn'}\n"
          ]
        }
      ]
    },
    {
      "cell_type": "code",
      "source": [
        "#Dictionaries using an expression, weather cities en F° and C°\n",
        "\n",
        "clima=dict[map(lambda cit: temp(ciudades.values(cit),ciudades.items()))]\n",
        "#Another form\n",
        "clima={key: temp(value) for (key,value) in ciudades.items()}\n",
        "print(clima)"
      ],
      "metadata": {
        "id": "xx8FK6LCU5lF"
      },
      "execution_count": null,
      "outputs": []
    },
    {
      "cell_type": "markdown",
      "source": [
        "#Sebastian (Yo)"
      ],
      "metadata": {
        "id": "-yK9CxHAMbFQ"
      }
    },
    {
      "cell_type": "code",
      "source": [
        "import random\n",
        "def aleatorio(opciones):\n",
        "    opciones = list(opciones)\n",
        "    while True:\n",
        "        x = random.choice(opciones)\n",
        "        opciones.remove(x)\n",
        "        yield x"
      ],
      "metadata": {
        "id": "CZyJUcShWHLl"
      },
      "execution_count": 15,
      "outputs": []
    },
    {
      "cell_type": "code",
      "source": [
        "#Diccionarios por tradicional\n",
        "\n",
        "compañeros=[]\n",
        "\n",
        "print(\"Para no agregar mas nombres escribe '0'\")\n",
        "a=\"t\"\n",
        "while a!=\"0\":\n",
        "  a=(input(\"Ingresa el nombre de tu compañero: \"))\n",
        "  if a!=\"0\":\n",
        "    compañeros.append(a)\n",
        "cantidad=len(compañeros)\n",
        "contador=0\n",
        "numeros=[]\n",
        "while contador != (cantidad+1):\n",
        "  contador+=1\n",
        "  numeros.append(contador)\n",
        "alt = aleatorio(numeros)\n",
        "num_alt={}\n",
        "for s in range(cantidad):\n",
        "  num_alt[compañeros[s]]=next(alt)\n",
        "print(num_alt)"
      ],
      "metadata": {
        "id": "i9RrmN_tMeWw"
      },
      "execution_count": null,
      "outputs": []
    },
    {
      "cell_type": "code",
      "source": [
        "#Diccionarios por comprensión\n",
        "compañeros=[]\n",
        "\n",
        "print(\"Para no agregar mas nombres escribe '0'\")\n",
        "a=\"t\"\n",
        "while a!=\"0\":\n",
        "  a=(input(\"Ingresa el nombre de tu compañero: \"))\n",
        "  if a!=\"0\":\n",
        "    compañeros.append(a)\n",
        "cantidad=len(compañeros)\n",
        "numeros=[num for num in range(1, (cantidad+1))]\n",
        "alt = aleatorio(numeros)\n",
        "num_alt = {orden:next(alt) for orden in compañeros }\n",
        "print(num_alt)"
      ],
      "metadata": {
        "id": "9qss9BnKMjKQ"
      },
      "execution_count": null,
      "outputs": []
    },
    {
      "cell_type": "code",
      "source": [
        "#Diccionarios por lambda\n",
        "compañeros=[]\n",
        "\n",
        "print(\"Para no agregar mas nombres escribe '0'\")\n",
        "a=\"t\"\n",
        "while a!=\"0\":\n",
        "  a=(input(\"Ingresa el nombre de tu compañero: \"))\n",
        "  if a!=\"0\":\n",
        "    compañeros.append(a)\n",
        "cantidad=len(compañeros)\n",
        "valores=[ n for n in range (1, cantidad+1)]\n",
        "numeros=list(map(lambda num: num, valores))\n",
        "alt = aleatorio(numeros)\n",
        "num_alt = dict (map(lambda orden: (orden, next(alt) ), compañeros))\n",
        "print(num_alt)"
      ],
      "metadata": {
        "id": "WNsip9FtMlsv"
      },
      "execution_count": null,
      "outputs": []
    },
    {
      "cell_type": "markdown",
      "source": [
        "#Daniel Rodriguez"
      ],
      "metadata": {
        "id": "RlGG-YBBQqwS"
      }
    },
    {
      "cell_type": "code",
      "source": [
        "#Por comprensión\n",
        "dicc=[\"cliente1\", \"cliente2\", \"cliente3\", \"cliente4\", \"cliente5\"]\n",
        "tienda={dicc:random.randint(1000,100000) for dicc in dicc}\n",
        "tienda_sort=sorted(tienda.values())\n",
        "mayor=tienda_sort[-1]\n",
        "mayor1=tienda_sort[4::]\n",
        "cliente=list(tienda.values()).index(mayor)\n",
        "if cliente==0:\n",
        "  a=\"cliente 1\"\n",
        "if cliente==1:\n",
        "  a=\"cliente 2\"\n",
        "if cliente==2:\n",
        "  a=\"cliente 3\"\n",
        "if cliente==3:\n",
        "  a=\"cliente 4\"\n",
        "if cliente==4:\n",
        "  a=\"cliente 5\"\n",
        "oferta={producto*0.8 for producto in mayor1}\n",
        "print(f\"El {a} tuvo la mayor compra con un valor de: {mayor}, por lo tanto obtuvo un descuento del 20%, su total fue: {oferta}\")"
      ],
      "metadata": {
        "colab": {
          "base_uri": "https://localhost:8080/"
        },
        "id": "jtE0aPeKQz_r",
        "outputId": "880d158a-cbc8-4425-9fde-42bc37e51dee"
      },
      "execution_count": 16,
      "outputs": [
        {
          "output_type": "stream",
          "name": "stdout",
          "text": [
            "El cliente 4 tuvo la mayor compra con un valor de: 73283, por lo tanto obtuvo un descuento del 20%, su total fue: {58626.4}\n"
          ]
        }
      ]
    },
    {
      "cell_type": "code",
      "source": [
        "def cositas(a):\n",
        " tienda={dicc: random.randint(1000,100000) for dicc in dicc}\n",
        " tienda_sort=sorted(tienda.values())\n",
        " mayor=tienda_sort[-1]\n",
        " mayor1=tienda_sort[4::]\n",
        " cliente=list(tienda.values()).index(mayor)\n",
        " if cliente==0:\n",
        "   a=\"cliente 1\"\n",
        " if cliente==1:\n",
        "   a=\"cliente 2\"\n",
        " if cliente==2:\n",
        "   a=\"cliente 3\"\n",
        " if cliente==3:\n",
        "   a=\"cliente 4\"\n",
        " if cliente==4:\n",
        "   a=\"cliente 5\"\n",
        " oferta={producto*0.8 for producto in mayor1}\n",
        " print(f\"El {a} tuvo la mayor compra con un valor de: {mayor}, por lo tanto obtuvo un descuento del 20%, su total fue: {oferta}\")\n",
        "cositas(dicc)"
      ],
      "metadata": {
        "colab": {
          "base_uri": "https://localhost:8080/"
        },
        "id": "XTwecJVnZmD5",
        "outputId": "3b7f969b-a2f2-46b3-c4a6-a26298a3cf64"
      },
      "execution_count": 17,
      "outputs": [
        {
          "output_type": "stream",
          "name": "stdout",
          "text": [
            "El cliente 1 tuvo la mayor compra con un valor de: 94292, por lo tanto obtuvo un descuento del 20%, su total fue: {75433.6}\n"
          ]
        }
      ]
    },
    {
      "cell_type": "code",
      "source": [
        "cositas=max(tienda,key=tienda.get)\n",
        "print(f\"El {cositas} tuvo la mayor compra con un valor de: {mayor}, por lo tanto obtuvo un descuento del 20%, su total fue: {oferta}\")"
      ],
      "metadata": {
        "colab": {
          "base_uri": "https://localhost:8080/"
        },
        "id": "pS6bGtUYZ4b3",
        "outputId": "02dd5332-2f3f-4226-857a-96104ddc911b"
      },
      "execution_count": 18,
      "outputs": [
        {
          "output_type": "stream",
          "name": "stdout",
          "text": [
            "El cliente4 tuvo la mayor compra con un valor de: 73283, por lo tanto obtuvo un descuento del 20%, su total fue: {58626.4}\n"
          ]
        }
      ]
    },
    {
      "cell_type": "markdown",
      "source": [
        "#Adrian"
      ],
      "metadata": {
        "id": "8vuckZ_DToTN"
      }
    },
    {
      "cell_type": "code",
      "source": [
        "nombre=str(input(\"Ingrese el nombre del atleta: \"))\n",
        "N=int(input(\"Ingres el numero de saltos: \"))\n",
        "\n",
        "\n",
        "def fun(nombre,a):\n",
        "  lista=[]\n",
        "  for i in range(0,a):\n",
        "    name=str(f\"Salto {i+1}\")\n",
        "    lista.append(name)\n",
        "\n",
        "  print(\"--------------\")\n",
        "  print(\"La altura de los saltos se mide en metros\")\n",
        "  dic_listas={lista: float(input(f\"Ingrese la altura del salto: \")) for lista in lista}\n",
        "  distancia=sorted(dic_listas.values())\n",
        "  mayor=distancia[-1]\n",
        "  print(\"\")\n",
        "  print(f\"Atleta {nombre}:\")\n",
        "  print(dic_listas)\n",
        "  sum=8\n",
        "  for i in dic_listas.values():\n",
        "    sum+=1\n",
        "    prom=sum/a\n",
        "    redprom=round(prom,2)\n",
        "    print(f\"EL promedio de los {a} saltos es de {redprom} metros, teniendo que el mayor fue aquel con {mayor} metros de altura \")\n",
        "\n",
        "fun(nombre,N)\n"
      ],
      "metadata": {
        "colab": {
          "base_uri": "https://localhost:8080/"
        },
        "id": "FMQr9f1STq41",
        "outputId": "6a9efc6d-7d37-4c23-c1a5-7b12d0dd0c07"
      },
      "execution_count": 19,
      "outputs": [
        {
          "output_type": "stream",
          "name": "stdout",
          "text": [
            "Ingrese el nombre del atleta: Juancho\n",
            "Ingres el numero de saltos: 3\n",
            "--------------\n",
            "La altura de los saltos se mide en metros\n",
            "Ingrese la altura del salto: 1.5\n",
            "Ingrese la altura del salto: 2\n",
            "Ingrese la altura del salto: 5\n",
            "\n",
            "Atleta Juancho:\n",
            "{'Salto 1': 1.5, 'Salto 2': 2.0, 'Salto 3': 5.0}\n",
            "EL promedio de los 3 saltos es de 3.0 metros, teniendo que el mayor fue aquel con 5.0 metros de altura \n",
            "EL promedio de los 3 saltos es de 3.33 metros, teniendo que el mayor fue aquel con 5.0 metros de altura \n",
            "EL promedio de los 3 saltos es de 3.67 metros, teniendo que el mayor fue aquel con 5.0 metros de altura \n"
          ]
        }
      ]
    },
    {
      "cell_type": "code",
      "source": [
        "nombre=str(input(\"Ingrese el nombre del atleta: \"))\n",
        "N=int(input(\"Ingres el numero de saltos: \"))\n",
        "\n",
        "\n",
        "def fun(nombre,a):\n",
        "  lista=[]\n",
        "  for i in range(0,a):\n",
        "    name=str(f\"Salto {i+1}\")\n",
        "    lista.append(name)\n",
        "\n",
        "  print(\"--------------\")\n",
        "  print(\"La altura de los saltos se mide en metros\")\n",
        "  dic_listas=(dict(map(lambda x:(x, float(input(f\"Ingrese la altura del salto:\"))), lista)))\n",
        "  distancia=sorted(dic_listas.values())\n",
        "  mayor=distancia[-1]\n",
        "  print(\"\")\n",
        "  print(f\"Atleta {nombre}:\")\n",
        "  print(dic_listas)\n",
        "\n",
        "  sum=reduce(lambda distancia,distancia1:distancia+distancia1, distancia)\n",
        "  \n",
        "  prom=float(sum)/a\n",
        "  redprom=round(prom,2)\n",
        "  print(f\"EL promedio de los {a} saltos es de {redprom} metros, teniendo que el mayor fue aquel con {mayor} metros de altura \")\n",
        "\n",
        "fun(nombre,N)"
      ],
      "metadata": {
        "id": "IGcDMm0ybRs8"
      },
      "execution_count": null,
      "outputs": []
    },
    {
      "cell_type": "markdown",
      "source": [
        "#Santiago Galindo"
      ],
      "metadata": {
        "id": "qqKEB9vVVaJ-"
      }
    },
    {
      "cell_type": "code",
      "source": [
        "cs =[\"Andru\",\"David\",\"Sebas\"]\n",
        "CS =[\"Andres\",\"Flowey\",\"Cata\",\"Karen\"]\n",
        "DD= {cs:random.randint(1,50) for cs in cs}\n",
        "DD1 = {CS:random.randint(1,50) for CS in CS}\n",
        "print(DD,DD1)"
      ],
      "metadata": {
        "colab": {
          "base_uri": "https://localhost:8080/"
        },
        "id": "eyeZ4zmNVcxt",
        "outputId": "3733f267-68e1-4084-ac2a-309f54cfe129"
      },
      "execution_count": 20,
      "outputs": [
        {
          "output_type": "stream",
          "name": "stdout",
          "text": [
            "{'Andru': 6, 'David': 40, 'Sebas': 43} {'Andres': 44, 'Flowey': 26, 'Cata': 32, 'Karen': 4}\n"
          ]
        }
      ]
    },
    {
      "cell_type": "code",
      "source": [
        "def A():\n",
        "  cs =[\"Andru\",\"David\",\"Sebas\"]\n",
        "  CS =[\"Andres\",\"Flowey\",\"Cata\",\"Karen\"]\n",
        "  DD= {cs:random.randint(1,50) for cs in cs}\n",
        "  DD1 = {CS:random.randint(1,50) for CS in CS}\n",
        "  return DD,DD1\n",
        "A()"
      ],
      "metadata": {
        "id": "XFKKAAU8chQN"
      },
      "execution_count": null,
      "outputs": []
    },
    {
      "cell_type": "code",
      "source": [
        "DD= dict(map(lambda DD:(DD,random.randint(1,50)),cs))\n",
        "DD1= dict(map(lambda DD1:(DD1,random.randint(1,50)),CS))\n",
        "print(DD,DD1)"
      ],
      "metadata": {
        "colab": {
          "base_uri": "https://localhost:8080/"
        },
        "id": "mI9s841Jcjed",
        "outputId": "60f826a2-ab85-4c70-ea48-d706b2e4a541"
      },
      "execution_count": 21,
      "outputs": [
        {
          "output_type": "stream",
          "name": "stdout",
          "text": [
            "{'Andru': 32, 'David': 19, 'Sebas': 39} {'Andres': 37, 'Flowey': 13, 'Cata': 35, 'Karen': 27}\n"
          ]
        }
      ]
    }
  ]
}