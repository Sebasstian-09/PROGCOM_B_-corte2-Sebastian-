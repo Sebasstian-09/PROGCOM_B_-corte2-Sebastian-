{
  "nbformat": 4,
  "nbformat_minor": 0,
  "metadata": {
    "colab": {
      "provenance": []
    },
    "kernelspec": {
      "name": "python3",
      "display_name": "Python 3"
    },
    "language_info": {
      "name": "python"
    }
  },
  "cells": [
    {
      "cell_type": "code",
      "execution_count": 5,
      "metadata": {
        "colab": {
          "base_uri": "https://localhost:8080/"
        },
        "id": "ytSuZwqdba8f",
        "outputId": "240acd09-fc79-4822-ce81-5fc458361950"
      },
      "outputs": [
        {
          "output_type": "stream",
          "name": "stdout",
          "text": [
            "Ingresa un número: 5\n",
            "Ingresa otro número: 23\n",
            "23.0 es el mayor\n"
          ]
        }
      ],
      "source": [
        "#Determine el mayor de dos números.\n",
        "\n",
        "def mayor(a,b):\n",
        "  if a>b:\n",
        "    c=a\n",
        "  else:\n",
        "    c=b\n",
        "  return c\n",
        "\n",
        "a=float(input(\"Ingresa un número: \"))\n",
        "b=float(input(\"Ingresa otro número: \"))\n",
        "\n",
        "print(mayor(a,b), \"es el mayor\")"
      ]
    },
    {
      "cell_type": "code",
      "source": [
        "#Determine el mayor de tres números (empleando la función anterior).\n",
        "\n",
        "x=float(input(\"Ingresa un número: \"))\n",
        "y=float(input(\"Ingresa otro número: \"))\n",
        "z=float(input(\"Ingresa otro número: \"))\n",
        "\n",
        "d=mayor(x,y)\n",
        "print(mayor(d,z), \"es el mayor\")"
      ],
      "metadata": {
        "colab": {
          "base_uri": "https://localhost:8080/"
        },
        "id": "OWvpV80le39g",
        "outputId": "f9d39aea-d8b1-49e2-fe6f-c911b72bb782"
      },
      "execution_count": 8,
      "outputs": [
        {
          "output_type": "stream",
          "name": "stdout",
          "text": [
            "Ingresa un número: 5\n",
            "Ingresa otro número: 6\n",
            "Ingresa otro número: 7\n",
            "7.0 es el mayor\n"
          ]
        }
      ]
    },
    {
      "cell_type": "code",
      "source": [
        "#Sumar los números de una lista de 3 elementos. Ejemplo [3,4,5]. Salida: 12\n",
        "def suma_lista():\n",
        "  lista=[0,0,0]\n",
        "  c=0\n",
        "  for i in range(0,3):\n",
        "    lista[i]=float(input(\"Ingresa un número: \"))\n",
        "    c+=lista[i]\n",
        "  print(\"La suma de la lista es:\", c)\n",
        "suma_lista()"
      ],
      "metadata": {
        "colab": {
          "base_uri": "https://localhost:8080/"
        },
        "id": "0T7v-Thihny_",
        "outputId": "3f9e0970-15ef-4db9-bcef-7c9e18174c7c"
      },
      "execution_count": 11,
      "outputs": [
        {
          "output_type": "stream",
          "name": "stdout",
          "text": [
            "Ingresa un número: 5\n",
            "Ingresa un número: 6\n",
            "Ingresa un número: 10\n",
            "La suma de la lista es: 21\n"
          ]
        }
      ]
    },
    {
      "cell_type": "code",
      "source": [
        "#Sumar los números de una lista de 4 elementos. Ejemplo [3,4,5,6]. Salida: 18\n",
        "def suma_lista2():\n",
        "  lista=[0,0,0,0]\n",
        "  c=0\n",
        "  for i in range(0,4):\n",
        "    lista[i]=float(input(\"Ingresa un número: \"))\n",
        "    c+=lista[i]\n",
        "  print(\"La suma de la lista es:\", c)\n",
        "suma_lista2()"
      ],
      "metadata": {
        "colab": {
          "base_uri": "https://localhost:8080/"
        },
        "id": "bdF2z4w2jtmN",
        "outputId": "9f2a3de5-c67d-43de-9f1d-35454363e92f"
      },
      "execution_count": 12,
      "outputs": [
        {
          "output_type": "stream",
          "name": "stdout",
          "text": [
            "Ingresa un número: 2\n",
            "Ingresa un número: 3\n",
            "Ingresa un número: 4\n",
            "Ingresa un número: 10\n",
            "La suma de la lista es: 19\n"
          ]
        }
      ]
    },
    {
      "cell_type": "code",
      "source": [
        "#Sumar todos los números de una lista. Ejemplo: (8,5,3,1). Salida: 17\n",
        "def suma_lista3():\n",
        "  f=int(input(\"¿Cuantos valores tiene la lista?: \"))\n",
        "  c=0\n",
        "  lista=[None]*f\n",
        "  for i in range(0,f):\n",
        "    lista[i]=float(input(\"Ingresa un número: \"))\n",
        "    c+=lista[i]\n",
        "  print(\"La suma de la lista es:\", c)\n",
        "suma_lista3()"
      ],
      "metadata": {
        "colab": {
          "base_uri": "https://localhost:8080/"
        },
        "id": "P-dvebsFkEJT",
        "outputId": "eaec21c3-42bb-4d9f-e029-541eaa31cce2"
      },
      "execution_count": 15,
      "outputs": [
        {
          "output_type": "stream",
          "name": "stdout",
          "text": [
            "¿Cuantos valores tiene la lista?: 4\n",
            "Ingresa un número: 1\n",
            "Ingresa un número: 2\n",
            "Ingresa un número: -2\n",
            "Ingresa un número: 10\n",
            "La suma de la lista es: 11\n"
          ]
        }
      ]
    },
    {
      "cell_type": "code",
      "source": [
        "#Multiplicar los números de una lista de 3 elementos. Ejemplo [0,4,5]. Salida: 0\n",
        "def mult_lista():\n",
        "  lista=[0,0,0]\n",
        "  c=1\n",
        "  for i in range(0,3):\n",
        "    lista[i]=float(input(\"Ingresa un número: \"))\n",
        "    c*=lista[i]\n",
        "  print(\"La multiplicación de la lista es:\", c)\n",
        "mult_lista()"
      ],
      "metadata": {
        "colab": {
          "base_uri": "https://localhost:8080/"
        },
        "id": "7O0l8aTalywg",
        "outputId": "1eef51df-eb58-4ee1-c0e4-1c2a9ac5bde5"
      },
      "execution_count": 17,
      "outputs": [
        {
          "output_type": "stream",
          "name": "stdout",
          "text": [
            "Ingresa un número: 2\n",
            "Ingresa un número: 4\n",
            "Ingresa un número: 3\n",
            "La multiplicación de la lista es: 24\n"
          ]
        }
      ]
    },
    {
      "cell_type": "code",
      "source": [
        "#Multiplicar los números de una lista de 4 elementos. Ejemplo [3,4,5,1]. Salida: 60\n",
        "def mult_lista2():\n",
        "  lista=[0,0,0,0]\n",
        "  c=1\n",
        "  for i in range(0,4):\n",
        "    lista[i]=float(input(\"Ingresa un número: \"))\n",
        "    c*=lista[i]\n",
        "  print(\"La multiplicación de la lista es:\", c)\n",
        "mult_lista2()"
      ],
      "metadata": {
        "colab": {
          "base_uri": "https://localhost:8080/"
        },
        "id": "VTgk8fOumFyo",
        "outputId": "71deb0d6-d831-483b-a3dd-f9eb91f574ca"
      },
      "execution_count": 18,
      "outputs": [
        {
          "output_type": "stream",
          "name": "stdout",
          "text": [
            "Ingresa un número: 2\n",
            "Ingresa un número: 4\n",
            "Ingresa un número: 6\n",
            "Ingresa un número: 8\n",
            "La multiplicación de la lista es: 384\n"
          ]
        }
      ]
    },
    {
      "cell_type": "code",
      "source": [
        "#Multiplicar todos los números de una lista. Ejemplo: (1,2,3,-1). Salida: -6\n",
        "def mult_lista3():\n",
        "  f=int(input(\"¿Cuantos valores tiene la lista?: \"))\n",
        "  c=1\n",
        "  lista=[None]*f\n",
        "  for i in range(0,f):\n",
        "    lista[i]=float(input(\"Ingresa un número: \"))\n",
        "    c*=lista[i]\n",
        "  print(\"La multiplicación de la lista es:\", c)\n",
        "mult_lista3()"
      ],
      "metadata": {
        "colab": {
          "base_uri": "https://localhost:8080/"
        },
        "id": "kAKv_3rzmmVR",
        "outputId": "cd35b3aa-3e69-4428-ddaf-cf53660e0873"
      },
      "execution_count": 20,
      "outputs": [
        {
          "output_type": "stream",
          "name": "stdout",
          "text": [
            "¿Cuantos valores tiene la lista?: 2\n",
            "Ingresa un número: 20\n",
            "Ingresa un número: 0.5\n",
            "La multiplicación de la lista es: 10.0\n"
          ]
        }
      ]
    },
    {
      "cell_type": "code",
      "source": [
        "#Invierta un String. Ejemplo: ingresa Hola y retorna aloH\n",
        "p=str(input(\"Escribe cualquier cosa: \"))\n",
        "def invertir(a):\n",
        "  inv=a[::-1]\n",
        "  return inv\n",
        "print(invertir(p))"
      ],
      "metadata": {
        "colab": {
          "base_uri": "https://localhost:8080/"
        },
        "id": "anO7ZduinHBW",
        "outputId": "f999e96e-f936-4ba5-b77c-1ad7cbdf97a4"
      },
      "execution_count": 24,
      "outputs": [
        {
          "output_type": "stream",
          "name": "stdout",
          "text": [
            "Escribe cualquier cosa: mi ojo\n",
            "ojo im\n"
          ]
        }
      ]
    },
    {
      "cell_type": "code",
      "source": [
        "#Calcular el factorial de un número\n",
        "\n",
        "r=int(input(\"Ingrese un número: \"))\n",
        "g=1\n",
        "def factorial(a):\n",
        "  g=1\n",
        "  for i in range(0, r):\n",
        "    g*=(1+i)\n",
        "  return g\n",
        "print(\"El factorial de\", r, \"es:\", factorial(r))"
      ],
      "metadata": {
        "colab": {
          "base_uri": "https://localhost:8080/"
        },
        "id": "98jVbJkmosOV",
        "outputId": "b5389c33-3e58-431e-8e43-f5af19ebeadf"
      },
      "execution_count": 30,
      "outputs": [
        {
          "output_type": "stream",
          "name": "stdout",
          "text": [
            "Ingrese un número: 4\n",
            "El factorial de 4 es: 24\n"
          ]
        }
      ]
    },
    {
      "cell_type": "code",
      "source": [
        "#Si un número está dentro de un rango.\n",
        "a=int(input(\"Inicio del rango: \"))\n",
        "b=int(input(\"Fin del rango: \"))\n",
        "c=float(input(\"Ingresa un número: \"))\n",
        "def inrange(a,b,c):\n",
        "  d= a<=c and c<=b\n",
        "  if d==True:\n",
        "    d=\"Verdadero\"\n",
        "  else:\n",
        "    d=\"Falso\"\n",
        "  return d\n",
        "print(\"¿\", c, \"está en el rango:\", \"[\", a, \",\", b, \"] ?\")\n",
        "inrange(a,b,c)"
      ],
      "metadata": {
        "colab": {
          "base_uri": "https://localhost:8080/",
          "height": 105
        },
        "id": "93woM45XqheM",
        "outputId": "70d1c661-2309-4989-c254-ce010c8f4f7c"
      },
      "execution_count": 32,
      "outputs": [
        {
          "output_type": "stream",
          "name": "stdout",
          "text": [
            "Inicio del rango: 0\n",
            "Fin del rango: 10\n",
            "Ingresa un número: 6\n",
            "¿ 6.0 está en el rango: [ 0 , 10 ] ?\n"
          ]
        },
        {
          "output_type": "execute_result",
          "data": {
            "text/plain": [
              "'Verdadero'"
            ],
            "application/vnd.google.colaboratory.intrinsic+json": {
              "type": "string"
            }
          },
          "metadata": {},
          "execution_count": 32
        }
      ]
    },
    {
      "cell_type": "code",
      "source": [
        "#Reciba una lista y retorne sólo los elementos pares\n",
        "def pares_in_list():\n",
        "  c=int(input(\"¿Cuantos valores tiene la lista?: \"))\n",
        "  lista=[None]*c\n",
        "  a=0\n",
        "  for i in range(0, c):\n",
        "    lista[i]=int(input(\"Ingresa un número: \"))\n",
        "    if lista[i]%2==0:\n",
        "      a+=1\n",
        "  lista_pares=[None]*a\n",
        "  v=0\n",
        "  b=0\n",
        "  while b<c:\n",
        "    if lista[b]%2==0:\n",
        "      lista_pares[v]=lista[b]\n",
        "      v+=1\n",
        "    b+=1\n",
        "  print(lista_pares)\n",
        "pares_in_list()"
      ],
      "metadata": {
        "id": "5pJ_SvtasUIr"
      },
      "execution_count": null,
      "outputs": []
    }
  ]
}