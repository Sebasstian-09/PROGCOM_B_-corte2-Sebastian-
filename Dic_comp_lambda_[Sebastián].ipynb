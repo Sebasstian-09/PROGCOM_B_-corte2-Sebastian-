{
  "nbformat": 4,
  "nbformat_minor": 0,
  "metadata": {
    "colab": {
      "provenance": []
    },
    "kernelspec": {
      "name": "python3",
      "display_name": "Python 3"
    },
    "language_info": {
      "name": "python"
    }
  },
  "cells": [
    {
      "cell_type": "code",
      "source": [
        "#Diccionarios por comprensión\n",
        "import random\n",
        "compañeros=[]\n",
        "def aleatorio(opciones):\n",
        "    opciones = list(opciones)\n",
        "    while True:\n",
        "        x = random.choice(opciones)\n",
        "        opciones.remove(x)\n",
        "        yield x\n",
        "print(\"Para no agregar mas nombres escribe '0'\")\n",
        "a=\"t\"\n",
        "while a!=\"0\":\n",
        "  a=(input(\"Ingresa el nombre de tu compañero: \"))\n",
        "  if a!=\"0\":\n",
        "    compañeros.append(a)\n",
        "cantidad=len(compañeros)\n",
        "numeros=[num for num in range(1, (cantidad+1))]\n",
        "alt = aleatorio(numeros)\n",
        "num_alt = {orden:next(alt) for orden in compañeros }\n",
        "print(num_alt)"
      ],
      "metadata": {
        "colab": {
          "base_uri": "https://localhost:8080/"
        },
        "id": "jJktLnaymtFP",
        "outputId": "c53a4fe9-324a-4d7f-e414-52a445b46601"
      },
      "execution_count": 1,
      "outputs": [
        {
          "output_type": "stream",
          "name": "stdout",
          "text": [
            "Para no agregar mas nombres escribe '0'\n",
            "Ingresa el nombre de tu compañero: Carlos\n",
            "Ingresa el nombre de tu compañero: Juan\n",
            "Ingresa el nombre de tu compañero: Andrea\n",
            "Ingresa el nombre de tu compañero: Paula\n",
            "Ingresa el nombre de tu compañero: Sebastian\n",
            "Ingresa el nombre de tu compañero: Mario\n",
            "Ingresa el nombre de tu compañero: 0\n",
            "{'Carlos': 5, 'Juan': 3, 'Andrea': 2, 'Paula': 4, 'Sebastian': 1, 'Mario': 6}\n"
          ]
        }
      ]
    },
    {
      "cell_type": "code",
      "source": [
        "#Diccionarios por lambda\n",
        "import random\n",
        "compañeros=[]\n",
        "def aleatorio(opciones):\n",
        "    opciones = list(opciones)\n",
        "    while True:\n",
        "        x = random.choice(opciones)\n",
        "        opciones.remove(x)\n",
        "        yield x\n",
        "print(\"Para no agregar mas nombres escribe '0'\")\n",
        "a=\"t\"\n",
        "while a!=\"0\":\n",
        "  a=(input(\"Ingresa el nombre de tu compañero: \"))\n",
        "  if a!=\"0\":\n",
        "    compañeros.append(a)\n",
        "cantidad=len(compañeros)\n",
        "valores=[ n for n in range (1, cantidad+1)]\n",
        "numeros=list(map(lambda num: num, valores))\n",
        "alt = aleatorio(numeros)\n",
        "num_alt = dict (map(lambda orden: (orden, next(alt) ), compañeros))\n",
        "print(num_alt)"
      ],
      "metadata": {
        "colab": {
          "base_uri": "https://localhost:8080/"
        },
        "id": "nfrZi_CWboTf",
        "outputId": "5beff379-7533-414a-8b32-7ee1fab05151"
      },
      "execution_count": 13,
      "outputs": [
        {
          "output_type": "stream",
          "name": "stdout",
          "text": [
            "Para no agregar mas nombres escribe '0'\n",
            "Ingresa el nombre de tu compañero: Carlos\n",
            "Ingresa el nombre de tu compañero: Juan\n",
            "Ingresa el nombre de tu compañero: Andrea\n",
            "Ingresa el nombre de tu compañero: Paula\n",
            "Ingresa el nombre de tu compañero: Sebastian\n",
            "Ingresa el nombre de tu compañero: Mario\n",
            "Ingresa el nombre de tu compañero: 0\n",
            "{'Carlos': 5, 'Juan': 3, 'Andrea': 4, 'Paula': 1, 'Sebastian': 6, 'Mario': 2}\n"
          ]
        }
      ]
    }
  ]
}