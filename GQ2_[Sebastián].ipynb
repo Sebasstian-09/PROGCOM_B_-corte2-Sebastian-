{
  "nbformat": 4,
  "nbformat_minor": 0,
  "metadata": {
    "colab": {
      "provenance": []
    },
    "kernelspec": {
      "name": "python3",
      "display_name": "Python 3"
    },
    "language_info": {
      "name": "python"
    }
  },
  "cells": [
    {
      "cell_type": "markdown",
      "source": [
        "#GQ2 \n",
        "\n",
        "Juan Sebastián Zambrano.\n",
        "\n",
        "Leandro Ezequiel Cortes.\n",
        "\n",
        "Daniel Alejandro Alarcon."
      ],
      "metadata": {
        "id": "6kmBsm0vKzTF"
      }
    },
    {
      "cell_type": "code",
      "execution_count": 2,
      "metadata": {
        "id": "msgivMn5KrET"
      },
      "outputs": [],
      "source": [
        "voc=[\"a\", \"e\", \"i\", \"o\", \"u\"]\n",
        "con=[\"b\", \"c\", \"d\", \"f\", \"g\", \"h\", \"j\", \"k\", \"l\", \"m\", \"n\", \"p\", \"q\", \"r\", \"s\", \"t\", \"v\", \"w\", \"x\", \"y\", \"z\"]"
      ]
    },
    {
      "cell_type": "code",
      "source": [
        "def invertir(a):\n",
        "  a.split(sep=' ')\n",
        "  ord=list(reversed(a.split(sep=' ')))\n",
        "  return (ord)"
      ],
      "metadata": {
        "id": "HZFd842HM4Lr"
      },
      "execution_count": 22,
      "outputs": []
    },
    {
      "cell_type": "code",
      "source": [
        "def decodificar(a):\n",
        "  b=\"\"\n",
        "  for letra in a:\n",
        "    if letra in voc:\n",
        "      posicion=voc.index(letra)\n",
        "      letra=voc[(posicion-2)]\n",
        "    elif letra in con:\n",
        "      posicion2=con.index(letra)\n",
        "      letra=con[(posicion2+1)]\n",
        "    else:\n",
        "      letra=letra\n",
        "    b+=letra\n",
        "  return(b)\n"
      ],
      "metadata": {
        "id": "6lPTS230RMuf"
      },
      "execution_count": 42,
      "outputs": []
    },
    {
      "cell_type": "code",
      "source": [
        "def codificar(a):\n",
        "  b=\"\"\n",
        "  for letra in a:\n",
        "    if letra in voc:\n",
        "      posicion=voc.index(letra)\n",
        "      letra=voc[(posicion+2)]\n",
        "    elif letra in con:\n",
        "      posicion2=con.index(letra)\n",
        "      letra=con[(posicion2-1)]\n",
        "    else:\n",
        "      letra=letra\n",
        "    b+=letra\n",
        "  return(b)"
      ],
      "metadata": {
        "id": "u3t85sO5g110"
      },
      "execution_count": 41,
      "outputs": []
    },
    {
      "cell_type": "code",
      "source": [
        "men=input(\"Ingrese en mensaje: \")\n",
        "dec=decodificar(men)\n",
        "msj=invertir(dec)\n",
        "msj2=\" \".join(msj)\n",
        "print(msj2)"
      ],
      "metadata": {
        "colab": {
          "base_uri": "https://localhost:8080/"
        },
        "id": "zZ2q9TIGSKuS",
        "outputId": "c2f477ef-84bc-460c-fbdf-1f5b0507bf94"
      },
      "execution_count": 43,
      "outputs": [
        {
          "output_type": "stream",
          "name": "stdout",
          "text": [
            "Ingrese en mensaje: biri i tixi\n",
            "vaya a casa\n"
          ]
        }
      ]
    },
    {
      "cell_type": "code",
      "source": [
        "a=input(\"Ingrese en mensaje: \")\n",
        "cod=codificar(a)\n",
        "mj=invertir(cod)\n",
        "mj2=\" \".join(mj)\n",
        "print(mj2)"
      ],
      "metadata": {
        "colab": {
          "base_uri": "https://localhost:8080/"
        },
        "id": "aVTieeXRg_4e",
        "outputId": "a2524798-71ca-4806-d59d-50c4d104e31b"
      },
      "execution_count": 46,
      "outputs": [
        {
          "output_type": "stream",
          "name": "stdout",
          "text": [
            "Ingrese en mensaje: vaya a casa\n",
            "biri i tixi\n"
          ]
        }
      ]
    }
  ]
}