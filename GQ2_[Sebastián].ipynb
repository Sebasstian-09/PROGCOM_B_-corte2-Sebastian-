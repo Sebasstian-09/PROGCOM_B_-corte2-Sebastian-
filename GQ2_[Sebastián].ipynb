{
  "nbformat": 4,
  "nbformat_minor": 0,
  "metadata": {
    "colab": {
      "provenance": []
    },
    "kernelspec": {
      "name": "python3",
      "display_name": "Python 3"
    },
    "language_info": {
      "name": "python"
    }
  },
  "cells": [
    {
      "cell_type": "markdown",
      "source": [
        "#GQ2 \n",
        "\n",
        "Juan Sebastián Zambrano.\n",
        "\n",
        "Leandro Ezequiel Cortes.\n",
        "\n",
        "Daniel Alejandro Alarcon."
      ],
      "metadata": {
        "id": "6kmBsm0vKzTF"
      }
    },
    {
      "cell_type": "code",
      "execution_count": 2,
      "metadata": {
        "id": "msgivMn5KrET"
      },
      "outputs": [],
      "source": [
        "voc=[\"a\", \"e\", \"i\", \"o\", \"u\"]\n",
        "con=[\"b\", \"c\", \"d\", \"f\", \"g\", \"h\", \"j\", \"k\", \"l\", \"m\", \"n\", \"p\", \"q\", \"r\", \"s\", \"t\", \"v\", \"w\", \"x\", \"y\", \"z\"]"
      ]
    },
    {
      "cell_type": "code",
      "source": [
        "def invertir(a):\n",
        "  a.split(sep=' ')\n",
        "  ord=list(reversed(a.split(sep=' ')))\n",
        "  return (ord)"
      ],
      "metadata": {
        "id": "HZFd842HM4Lr"
      },
      "execution_count": 22,
      "outputs": []
    },
    {
      "cell_type": "code",
      "source": [
        "def decodificar(a):\n",
        "  b=\"\"\n",
        "  for letra in a:\n",
        "    if letra in voc:\n",
        "      posicion=voc.index(letra)\n",
        "      letra=voc[(posicion-2)]\n",
        "    elif letra in con:\n",
        "      posicion2=con.index(letra)\n",
        "      letra=con[(posicion2+1)]\n",
        "    else:\n",
        "      letra=letra\n",
        "    b+=letra\n",
        "  return(b)\n"
      ],
      "metadata": {
        "id": "6lPTS230RMuf"
      },
      "execution_count": 35,
      "outputs": []
    },
    {
      "cell_type": "code",
      "source": [
        "men=input(\"Ingrese en mensaje: \")\n",
        "dec=decodificar(men)\n",
        "msj=invertir(dec)\n",
        "print(msj)"
      ],
      "metadata": {
        "colab": {
          "base_uri": "https://localhost:8080/"
        },
        "id": "zZ2q9TIGSKuS",
        "outputId": "3a2d8286-f3a0-4d50-e556-03a5ccd7c6f5"
      },
      "execution_count": 37,
      "outputs": [
        {
          "output_type": "stream",
          "name": "stdout",
          "text": [
            "Ingrese en mensaje: biri i tixi\n",
            "['vaya', 'a', 'casa']\n"
          ]
        }
      ]
    }
  ]
}