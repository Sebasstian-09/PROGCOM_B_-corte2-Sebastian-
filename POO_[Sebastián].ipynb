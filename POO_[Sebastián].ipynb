{
  "nbformat": 4,
  "nbformat_minor": 0,
  "metadata": {
    "colab": {
      "provenance": []
    },
    "kernelspec": {
      "name": "python3",
      "display_name": "Python 3"
    },
    "language_info": {
      "name": "python"
    }
  },
  "cells": [
    {
      "cell_type": "markdown",
      "source": [
        "#POO: Programación orientada a objetos\n",
        "\n",
        "Class (clase de objetos)"
      ],
      "metadata": {
        "id": "ehEEqm9tdq35"
      }
    },
    {
      "cell_type": "code",
      "execution_count": null,
      "metadata": {
        "id": "1-pCDa9zdhfh"
      },
      "outputs": [],
      "source": [
        "class Empleado: #Esto es una clase\n",
        "  def __init__(self,nombre,edad,ID,salario):#__init__ función del constructor\n",
        "    self.nombre=nombre\n",
        "    self.edad=edad\n",
        "    self.ID=ID\n",
        "    self.salario=salario\n",
        "\n",
        "  def __repr__(self) -> str:\n",
        "    return f\"Nombre:{self.nombre}, Edad:{self.edad}, ID:{self.ID}, Salario:{self.salario}\""
      ]
    },
    {
      "cell_type": "code",
      "source": [
        "sonia=Empleado(\"Maria\",27,\"No sé\",1200000)"
      ],
      "metadata": {
        "id": "EXRmYXldeGbQ"
      },
      "execution_count": null,
      "outputs": []
    },
    {
      "cell_type": "code",
      "source": [
        "type(sonia)"
      ],
      "metadata": {
        "colab": {
          "base_uri": "https://localhost:8080/"
        },
        "id": "tbBiXSuEeJ9h",
        "outputId": "2c4ceee3-e63b-46e4-bf63-e576d1ce102a"
      },
      "execution_count": null,
      "outputs": [
        {
          "output_type": "execute_result",
          "data": {
            "text/plain": [
              "__main__.empleado"
            ]
          },
          "metadata": {},
          "execution_count": 18
        }
      ]
    },
    {
      "cell_type": "code",
      "source": [
        "print(sonia)"
      ],
      "metadata": {
        "colab": {
          "base_uri": "https://localhost:8080/"
        },
        "id": "ej2OeM4Ljxsr",
        "outputId": "75e8f9dd-fddd-44cf-ae50-f51dbaa37de0"
      },
      "execution_count": null,
      "outputs": [
        {
          "output_type": "stream",
          "name": "stdout",
          "text": [
            "Nombre:Maria, Edad:27, ID:No sé, Salario:1200000\n"
          ]
        }
      ]
    },
    {
      "cell_type": "code",
      "source": [
        "sonia.nombre"
      ],
      "metadata": {
        "colab": {
          "base_uri": "https://localhost:8080/",
          "height": 35
        },
        "id": "dEWouvGRfcYL",
        "outputId": "f18e7bb0-ef61-41b9-b997-cb9853092ae4"
      },
      "execution_count": null,
      "outputs": [
        {
          "output_type": "execute_result",
          "data": {
            "text/plain": [
              "'Maria'"
            ],
            "application/vnd.google.colaboratory.intrinsic+json": {
              "type": "string"
            }
          },
          "metadata": {},
          "execution_count": 19
        }
      ]
    },
    {
      "cell_type": "code",
      "source": [
        "sonia.salario=1500000"
      ],
      "metadata": {
        "id": "-m4TrjezffF6"
      },
      "execution_count": null,
      "outputs": []
    },
    {
      "cell_type": "code",
      "source": [
        "sonia.salario"
      ],
      "metadata": {
        "colab": {
          "base_uri": "https://localhost:8080/"
        },
        "id": "QJK5IHhgfkWK",
        "outputId": "2ac3722c-e365-4988-861e-9775b2e6aca8"
      },
      "execution_count": null,
      "outputs": [
        {
          "output_type": "execute_result",
          "data": {
            "text/plain": [
              "1500000"
            ]
          },
          "metadata": {},
          "execution_count": 21
        }
      ]
    },
    {
      "cell_type": "code",
      "source": [
        "sonia.ID=\"U001585\""
      ],
      "metadata": {
        "id": "ZkyLK4s7fmlC"
      },
      "execution_count": null,
      "outputs": []
    },
    {
      "cell_type": "code",
      "source": [
        "sonia.__dict__#Para ver los atributos del constructor"
      ],
      "metadata": {
        "colab": {
          "base_uri": "https://localhost:8080/"
        },
        "id": "Ja0dUvjmftmJ",
        "outputId": "09b4c264-75e9-4654-d0fd-86c8b6d220ba"
      },
      "execution_count": null,
      "outputs": [
        {
          "output_type": "execute_result",
          "data": {
            "text/plain": [
              "{'nombre': 'Maria', 'edad': 27, 'ID': 'U001585', 'salario': 1500000}"
            ]
          },
          "metadata": {},
          "execution_count": 23
        }
      ]
    },
    {
      "cell_type": "code",
      "source": [
        "if sonia.salario<1000000:\n",
        "  sonia.salario*=1.20\n",
        "  print(sonia.nombre,\"Recibió una ayuda\")\n",
        "else:\n",
        "  print(sonia.nombre, \"No necesita ayuda\")"
      ],
      "metadata": {
        "colab": {
          "base_uri": "https://localhost:8080/"
        },
        "id": "qqyxCY3VgamH",
        "outputId": "480d195f-ed29-49c3-8f0f-f9a7f8ec5780"
      },
      "execution_count": null,
      "outputs": [
        {
          "output_type": "stream",
          "name": "stdout",
          "text": [
            "Maria No necesita ayuda\n"
          ]
        }
      ]
    },
    {
      "cell_type": "code",
      "source": [
        "class Tienda:\n",
        "  def __init__(self, producto,precio,unidad):\n",
        "    self.producto=producto\n",
        "    self.precio=precio\n",
        "    self.unidad=unidad \n",
        "\n",
        "  def calculo(self):\n",
        "    total=self.unidad*self.precio\n",
        "    return total"
      ],
      "metadata": {
        "id": "rb8_w7mDg_kI"
      },
      "execution_count": null,
      "outputs": []
    },
    {
      "cell_type": "code",
      "source": [
        "producto1=Tienda(\"Banano\", 500, 3)"
      ],
      "metadata": {
        "id": "U9NGn7SQiKWm"
      },
      "execution_count": null,
      "outputs": []
    },
    {
      "cell_type": "code",
      "source": [
        "producto1.calculo()"
      ],
      "metadata": {
        "colab": {
          "base_uri": "https://localhost:8080/"
        },
        "id": "jG5lwIJ_iZyg",
        "outputId": "99683476-3477-433a-b837-2971e631b851"
      },
      "execution_count": null,
      "outputs": [
        {
          "output_type": "execute_result",
          "data": {
            "text/plain": [
              "1500"
            ]
          },
          "metadata": {},
          "execution_count": 31
        }
      ]
    },
    {
      "cell_type": "code",
      "source": [
        "empleado2=Empleado(\"Victor\",38,\"1\",2000000)"
      ],
      "metadata": {
        "id": "vwOHFoJ_iwjV"
      },
      "execution_count": null,
      "outputs": []
    },
    {
      "cell_type": "code",
      "source": [
        "if empleado2.salario>sonia.salario:\n",
        "  print(f\"{empleado2.nombre} gana más que {sonia.nombre}\")\n",
        "elif empleado2.salario<sonia.salario:\n",
        "  print(f\"{empleado2.nombre} gana menos que {sonia.nombre}\")\n",
        "else:\n",
        "  print(f\"{empleado2.nombre} gana igual que {sonia.nombre}\")"
      ],
      "metadata": {
        "colab": {
          "base_uri": "https://localhost:8080/"
        },
        "id": "2rWSuQxMkZCs",
        "outputId": "e9f47a53-d84a-4d1a-d177-93506abc5bd9"
      },
      "execution_count": null,
      "outputs": [
        {
          "output_type": "stream",
          "name": "stdout",
          "text": [
            "Victor gana más que Maria\n"
          ]
        }
      ]
    },
    {
      "cell_type": "code",
      "source": [
        "class Fraccion:\n",
        "  num=0\n",
        "  den=1\n",
        "  def __init__(self,num=0,den=1):\n",
        "    self.num=num\n",
        "    self.den=den\n",
        "  def imprimir(self):\n",
        "    print(f\"{self.num}/{self.den}\")\n",
        "  def multiplica(self,b):\n",
        "    if b.den==0 or self.den==0:\n",
        "      return \"Una fracción no puede tener de denominador 0\"\n",
        "    else:\n",
        "      num=self.num*b.num\n",
        "      den=self.den*b.den\n",
        "      r=Fraccion(num,den)\n",
        "    return r\n",
        "  def suma(self,b):\n",
        "    if b.den==0 or self.den==0:\n",
        "      return \"Una fracción no puede tener de denominador 0\"\n",
        "    else:\n",
        "     if self.den==b.den:\n",
        "       num=self.num+b.num\n",
        "       den=self.den\n",
        "     else:\n",
        "       den=self.den*b.den\n",
        "       num=(self.num*b.den)+(b.num*self.den)\n",
        "    r=Fraccion(num,den)\n",
        "    return r\n",
        "  def resta(self,b):\n",
        "    if b.den==0 or self.den==0:\n",
        "      return \"Una fracción no puede tener de denominador 0\"\n",
        "    else:\n",
        "     if self.den==b.den:\n",
        "       num=self.num-b.num\n",
        "       den=self.den\n",
        "     else:\n",
        "       den=self.den*b.den\n",
        "       num=(self.num*b.den)-(b.num*self.den)\n",
        "    r=Fraccion(num,den)\n",
        "    return r\n",
        "  def div(self,b):\n",
        "    if b.den==0 or self.den==0:\n",
        "      return \"Una fracción no puede tener de denominador 0\"\n",
        "    else:\n",
        "      num=self.num*b.den\n",
        "      den=self.den*b.num\n",
        "      r=Fraccion(num,den)\n",
        "    return r\n",
        "  def potencia(self,c):\n",
        "    if self.potencia==0:\n",
        "      num=1\n",
        "      den=1\n",
        "    elif self.potencia<0:\n",
        "      self.num, self.den=self.den,self.num\n",
        "      self.potencia=self.pot*-1\n",
        "      num=self.num**self.potencia\n",
        "      den=self.den**self.potencia\n",
        "    else:\n",
        "      num=self.num**self.potencia\n",
        "      den=self.den**self.potencia\n",
        "      potencia=self.potencia\n",
        "      c=Fraccion(num,den,potencia)\n",
        "      print(f\"{c.num} / {c.den}\")\n",
        "      return c  "
      ],
      "metadata": {
        "id": "Cmoajgln4TLl"
      },
      "execution_count": 1,
      "outputs": []
    },
    {
      "cell_type": "code",
      "source": [
        "def imprimir(r):\n",
        "  if type(r)==str:\n",
        "    print(r)\n",
        "  else:\n",
        "    r.imprimir()"
      ],
      "metadata": {
        "id": "muGCgNXh4YdV"
      },
      "execution_count": 2,
      "outputs": []
    },
    {
      "cell_type": "code",
      "source": [
        "y=Fraccion(1,2)\n",
        "y.imprimir()"
      ],
      "metadata": {
        "colab": {
          "base_uri": "https://localhost:8080/"
        },
        "id": "2_XvoiST4ZZd",
        "outputId": "537cfb3d-ec15-4643-9250-3281908e3b33"
      },
      "execution_count": 15,
      "outputs": [
        {
          "output_type": "stream",
          "name": "stdout",
          "text": [
            "1/2\n"
          ]
        }
      ]
    },
    {
      "cell_type": "code",
      "source": [
        "x=Fraccion(5,9)"
      ],
      "metadata": {
        "id": "nhZR4uqM4bH9"
      },
      "execution_count": 5,
      "outputs": []
    },
    {
      "cell_type": "code",
      "source": [
        "r=y.suma(x)\n",
        "imprimir(r)"
      ],
      "metadata": {
        "colab": {
          "base_uri": "https://localhost:8080/"
        },
        "id": "DoXm-ZsE4nw9",
        "outputId": "435ed5f9-aaf8-48e5-c13d-4837644cf3b0"
      },
      "execution_count": 16,
      "outputs": [
        {
          "output_type": "stream",
          "name": "stdout",
          "text": [
            "19/18\n"
          ]
        }
      ]
    },
    {
      "cell_type": "code",
      "source": [
        "r=y.resta(x)\n",
        "imprimir(r)"
      ],
      "metadata": {
        "colab": {
          "base_uri": "https://localhost:8080/"
        },
        "id": "0uDqpBZF5Db9",
        "outputId": "13860aab-ea8c-4a6f-b255-790aa462675e"
      },
      "execution_count": 17,
      "outputs": [
        {
          "output_type": "stream",
          "name": "stdout",
          "text": [
            "-1/18\n"
          ]
        }
      ]
    },
    {
      "cell_type": "code",
      "source": [
        "r=y.multiplica(x)\n",
        "imprimir(r)"
      ],
      "metadata": {
        "colab": {
          "base_uri": "https://localhost:8080/"
        },
        "id": "ov9IbQdL5W6k",
        "outputId": "981f6ba6-7e1c-4f97-d358-aabd40e4044c"
      },
      "execution_count": 20,
      "outputs": [
        {
          "output_type": "stream",
          "name": "stdout",
          "text": [
            "5/18\n"
          ]
        }
      ]
    },
    {
      "cell_type": "code",
      "source": [
        "r=y.div(x)\n",
        "imprimir(r)"
      ],
      "metadata": {
        "colab": {
          "base_uri": "https://localhost:8080/"
        },
        "id": "EAFwIziu5XAs",
        "outputId": "5c53f04e-372c-45f5-ef29-101502bfc908"
      },
      "execution_count": 19,
      "outputs": [
        {
          "output_type": "stream",
          "name": "stdout",
          "text": [
            "9/10\n"
          ]
        }
      ]
    },
    {
      "cell_type": "code",
      "source": [
        "z=(5,12)"
      ],
      "metadata": {
        "id": "dVIAQYpH5aRT"
      },
      "execution_count": 22,
      "outputs": []
    }
  ]
}